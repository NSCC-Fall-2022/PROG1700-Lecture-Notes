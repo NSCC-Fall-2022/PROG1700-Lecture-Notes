{
 "cells": [
  {
   "cell_type": "code",
   "execution_count": 16,
   "metadata": {
    "vscode": {
     "languageId": "powershell"
    }
   },
   "outputs": [
    {
     "name": "stdout",
     "output_type": "stream",
     "text": [
      "True\n"
     ]
    }
   ],
   "source": [
    "# boolean variable\n",
    "$BooleanVariable1 = $true\n",
    "$BooleanVariable2 = $false\n",
    "\n",
    "# not boolean variable\n",
    "$NotABooleanVariable = \"true\"\n",
    "$NotABooleanVariable = 1\n",
    "\n",
    "# can be changed to a boolean variable\n",
    "# converts from text to boolean (directly)\n",
    "$ABooleanVariableAgain = [bool]::Parse(\"False\")\n",
    "$ABooleanVariableAgain = [bool]0\n",
    "$ABooleanVariableAgain = [bool]-0.1\n",
    "$ABooleanVariableAgain"
   ]
  },
  {
   "cell_type": "code",
   "execution_count": 20,
   "metadata": {
    "vscode": {
     "languageId": "powershell"
    }
   },
   "outputs": [
    {
     "name": "stdout",
     "output_type": "stream",
     "text": [
      "False\n",
      "True\n",
      "False\n",
      "True\n",
      "False\n",
      "True\n"
     ]
    }
   ],
   "source": [
    "# comparison operators\n",
    "1 -gt 2 # greater than >\n",
    "1 -lt 2 # less than <\n",
    "1 -ge 2 # greater than or equal to >=\n",
    "1 -le 2 # less than or equal to <=\n",
    "1 -eq 2 # equal to =, ==, ===\n",
    "1 -ne 2 # not equal to <>, !=, !=="
   ]
  },
  {
   "cell_type": "code",
   "execution_count": 29,
   "metadata": {
    "vscode": {
     "languageId": "powershell"
    }
   },
   "outputs": [
    {
     "name": "stdout",
     "output_type": "stream",
     "text": [
      "True\n",
      "True\n",
      "True\n",
      "True\n",
      "False\n"
     ]
    }
   ],
   "source": [
    "# comparing words\n",
    "\"cat\" -lt \"dog\"\n",
    "\"aaa\" -lt \"aabaaaa\"\n",
    "\"CAT\" -lt \"dog\"\n",
    "\"aaa\" -lt \"aaaa\"\n",
    "\"CAT\" -clt \"cat\""
   ]
  },
  {
   "cell_type": "code",
   "execution_count": 32,
   "metadata": {
    "vscode": {
     "languageId": "powershell"
    }
   },
   "outputs": [
    {
     "name": "stdout",
     "output_type": "stream",
     "text": [
      "True\n"
     ]
    }
   ],
   "source": [
    "# ask user for username\n",
    "$username = Read-Host \"Enter a username:\"\n",
    "$username -eq \"brian\" "
   ]
  },
  {
   "cell_type": "code",
   "execution_count": 35,
   "metadata": {
    "vscode": {
     "languageId": "powershell"
    }
   },
   "outputs": [
    {
     "name": "stdout",
     "output_type": "stream",
     "text": [
      "True\n"
     ]
    }
   ],
   "source": [
    "# ask user for password\n",
    "$password = Read-Host \"Enter a password:\"\n",
    "$password -ceq \"App13\""
   ]
  },
  {
   "cell_type": "code",
   "execution_count": 16,
   "metadata": {
    "vscode": {
     "languageId": "powershell"
    }
   },
   "outputs": [
    {
     "name": "stdout",
     "output_type": "stream",
     "text": [
      "True\n",
      "0\n",
      "False\n",
      "1\n",
      "True\n",
      "True\n",
      "False\n",
      "True\n",
      "True\n"
     ]
    }
   ],
   "source": [
    "# quirks\n",
    "0 -eq $false\n",
    "[int]$false\n",
    "123 -eq $true\n",
    "[int]$true\n",
    "$false -eq 0\n",
    "$true -eq 123\n",
    "\"cat\" -eq $true\n",
    "[string]$true\n",
    "$true -eq \"cat\""
   ]
  },
  {
   "cell_type": "code",
   "execution_count": 20,
   "metadata": {
    "vscode": {
     "languageId": "powershell"
    }
   },
   "outputs": [
    {
     "name": "stdout",
     "output_type": "stream",
     "text": [
      "Action to perform!\n",
      "1 is the loneliest number\n"
     ]
    }
   ],
   "source": [
    "# if statement\n",
    "if ($true) {\n",
    "    Write-Host \"Action to perform!\"\n",
    "}\n",
    "if (1 -lt 2) {\n",
    "    Write-Host \"1 is the loneliest number\"\n",
    "}"
   ]
  },
  {
   "cell_type": "code",
   "execution_count": 21,
   "metadata": {
    "vscode": {
     "languageId": "powershell"
    }
   },
   "outputs": [
    {
     "name": "stdout",
     "output_type": "stream",
     "text": [
      "they are equal\n"
     ]
    }
   ],
   "source": [
    "# best practice\n",
    "$num = 5\n",
    "if ($num -eq 5) {\n",
    "    Write-Host \"they are equal\"\n",
    "}"
   ]
  },
  {
   "cell_type": "code",
   "execution_count": 22,
   "metadata": {
    "vscode": {
     "languageId": "powershell"
    }
   },
   "outputs": [
    {
     "name": "stdout",
     "output_type": "stream",
     "text": [
      "all on one line...\n"
     ]
    }
   ],
   "source": [
    "# oh...it's alright, but not best practice\n",
    "if ($num -eq 5) { Write-Host \"all on one line...\" }"
   ]
  },
  {
   "cell_type": "code",
   "execution_count": 24,
   "metadata": {
    "vscode": {
     "languageId": "powershell"
    }
   },
   "outputs": [
    {
     "name": "stdout",
     "output_type": "stream",
     "text": [
      "all on one line...\n",
      "they are equal\n"
     ]
    }
   ],
   "source": [
    "# not preferred\n",
    "if($num -eq 5){Write-Host \"all on one line...\"}\n",
    "\n",
    "if ( $num   -eq  5 ) \n",
    "{\n",
    "Write-Host \"they are equal\"\n",
    "}"
   ]
  },
  {
   "cell_type": "code",
   "execution_count": 27,
   "metadata": {
    "vscode": {
     "languageId": "powershell"
    }
   },
   "outputs": [
    {
     "name": "stdout",
     "output_type": "stream",
     "text": [
      "YOU CAN NOT PASS!\n"
     ]
    }
   ],
   "source": [
    "# if statement with both true and false actions\n",
    "$username = \"bob\"\n",
    "if ($username -eq \"admin\") {\n",
    "    Write-Host \"You may pass.\"\n",
    "} else {\n",
    "    Write-Host \"YOU CAN NOT PASS!\"\n",
    "}"
   ]
  },
  {
   "cell_type": "code",
   "execution_count": 31,
   "metadata": {
    "vscode": {
     "languageId": "powershell"
    }
   },
   "outputs": [],
   "source": [
    "# nested if statement\n",
    "$name = \"granny smith\"\n",
    "$colour = \"red\"\n",
    "if ($name -eq \"macintosh\") {\n",
    "    if ($colour -eq \"red\") {\n",
    "        Write-Host \"mmmmm....apple pie.\"\n",
    "    }\n",
    "}"
   ]
  },
  {
   "cell_type": "code",
   "execution_count": 34,
   "metadata": {
    "vscode": {
     "languageId": "powershell"
    }
   },
   "outputs": [
    {
     "name": "stdout",
     "output_type": "stream",
     "text": [
      "mmmmm....apple pie.\n",
      "mmmmm....apple pie.\n",
      "munch...munch...munch...\n",
      "munch...munch...munch...\n"
     ]
    }
   ],
   "source": [
    "# compound if statements\n",
    "$name = \"macintosh\"\n",
    "$colour = \"red\"\n",
    "if ($name -eq \"macintosh\" -and $colour -eq \"red\") {\n",
    "    Write-Host \"mmmmm....apple pie.\"\n",
    "}\n",
    "if ($name -eq \"macintosh\" -or $colour -eq \"green\") {\n",
    "    Write-Host \"mmmmm....apple pie.\"\n",
    "}\n",
    "$InSeason = $true\n",
    "if ($name -eq \"macintosh\" -and $colour -eq \"red\" -and $InSeason) {\n",
    "    Write-Host \"munch...munch...munch...\"\n",
    "}\n",
    "\n",
    "# ??\n",
    "if ($name -eq \"macintosh\" -and ($colour -eq \"red\" -or $InSeason)) {\n",
    "    Write-Host \"munch...munch...munch...\"\n",
    "}"
   ]
  },
  {
   "cell_type": "code",
   "execution_count": 42,
   "metadata": {
    "vscode": {
     "languageId": "powershell"
    }
   },
   "outputs": [
    {
     "name": "stdout",
     "output_type": "stream",
     "text": [
      "yellow and blue = unknown\n"
     ]
    }
   ],
   "source": [
    "# allow user to enter two primary colours\n",
    "# script will output the mix (or secondary) colour\n",
    "\n",
    "# ask the user for colour 1\n",
    "$Colour1 = \"yellow\"\n",
    "\n",
    "# ask the user for colour 2\n",
    "$Colour2 = \"blue\"\n",
    "\n",
    "# set mixed colour to a special value\n",
    "$MixedColour = \"unknown\"\n",
    "\n",
    "# assume the user enters 'red' and 'blue'\n",
    "if ($Colour1 -eq \"red\" -and $Colour2 -eq \"blue\") {\n",
    "    # result will be 'violet'\n",
    "    $MixedColour = 'violet'\n",
    "}\n",
    "\n",
    "# assume the user enters 'red' and 'yellow'\n",
    "if ($Colour1 -eq \"red\" -and $Colour2 -eq \"yellow\") {\n",
    "    # result will be 'orange'\n",
    "    $MixedColour = 'orange'\n",
    "}\n",
    "\n",
    "# assume the user enters 'blue' and 'yellow'\n",
    "if ($Colour1 -eq \"blue\" -and $Colour2 -eq \"yellow\") {\n",
    "    # result will be 'green'\n",
    "    $MixedColour = 'green'\n",
    "}\n",
    "\n",
    "# write the mixed colour\n",
    "Write-Host \"$Colour1 and $Colour2 = $MixedColour\""
   ]
  },
  {
   "cell_type": "code",
   "execution_count": null,
   "metadata": {
    "vscode": {
     "languageId": "powershell"
    }
   },
   "outputs": [],
   "source": []
  }
 ],
 "metadata": {
  "kernelspec": {
   "display_name": ".NET (PowerShell)",
   "language": "PowerShell",
   "name": ".net-powershell"
  },
  "language_info": {
   "file_extension": ".ps1",
   "mimetype": "text/x-powershell",
   "name": "PowerShell",
   "pygments_lexer": "powershell",
   "version": "7.0"
  },
  "orig_nbformat": 4
 },
 "nbformat": 4,
 "nbformat_minor": 2
}
