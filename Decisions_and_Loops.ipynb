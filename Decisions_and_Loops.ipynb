{
 "cells": [
  {
   "cell_type": "code",
   "execution_count": 16,
   "metadata": {
    "vscode": {
     "languageId": "powershell"
    }
   },
   "outputs": [
    {
     "name": "stdout",
     "output_type": "stream",
     "text": [
      "True\n"
     ]
    }
   ],
   "source": [
    "# boolean variable\n",
    "$BooleanVariable1 = $true\n",
    "$BooleanVariable2 = $false\n",
    "\n",
    "# not boolean variable\n",
    "$NotABooleanVariable = \"true\"\n",
    "$NotABooleanVariable = 1\n",
    "\n",
    "# can be changed to a boolean variable\n",
    "# converts from text to boolean (directly)\n",
    "$ABooleanVariableAgain = [bool]::Parse(\"False\")\n",
    "$ABooleanVariableAgain = [bool]0\n",
    "$ABooleanVariableAgain = [bool]-0.1\n",
    "$ABooleanVariableAgain"
   ]
  },
  {
   "cell_type": "code",
   "execution_count": 20,
   "metadata": {
    "vscode": {
     "languageId": "powershell"
    }
   },
   "outputs": [
    {
     "name": "stdout",
     "output_type": "stream",
     "text": [
      "False\n",
      "True\n",
      "False\n",
      "True\n",
      "False\n",
      "True\n"
     ]
    }
   ],
   "source": [
    "# comparison operators\n",
    "1 -gt 2 # greater than >\n",
    "1 -lt 2 # less than <\n",
    "1 -ge 2 # greater than or equal to >=\n",
    "1 -le 2 # less than or equal to <=\n",
    "1 -eq 2 # equal to =, ==, ===\n",
    "1 -ne 2 # not equal to <>, !=, !=="
   ]
  },
  {
   "cell_type": "code",
   "execution_count": 29,
   "metadata": {
    "vscode": {
     "languageId": "powershell"
    }
   },
   "outputs": [
    {
     "name": "stdout",
     "output_type": "stream",
     "text": [
      "True\n",
      "True\n",
      "True\n",
      "True\n",
      "False\n"
     ]
    }
   ],
   "source": [
    "# comparing words\n",
    "\"cat\" -lt \"dog\"\n",
    "\"aaa\" -lt \"aabaaaa\"\n",
    "\"CAT\" -lt \"dog\"\n",
    "\"aaa\" -lt \"aaaa\"\n",
    "\"CAT\" -clt \"cat\""
   ]
  },
  {
   "cell_type": "code",
   "execution_count": 32,
   "metadata": {
    "vscode": {
     "languageId": "powershell"
    }
   },
   "outputs": [
    {
     "name": "stdout",
     "output_type": "stream",
     "text": [
      "True\n"
     ]
    }
   ],
   "source": [
    "# ask user for username\n",
    "$username = Read-Host \"Enter a username:\"\n",
    "$username -eq \"brian\" "
   ]
  },
  {
   "cell_type": "code",
   "execution_count": 35,
   "metadata": {
    "vscode": {
     "languageId": "powershell"
    }
   },
   "outputs": [
    {
     "name": "stdout",
     "output_type": "stream",
     "text": [
      "True\n"
     ]
    }
   ],
   "source": [
    "# ask user for password\n",
    "$password = Read-Host \"Enter a password:\"\n",
    "$password -ceq \"App13\""
   ]
  },
  {
   "cell_type": "code",
   "execution_count": 16,
   "metadata": {
    "vscode": {
     "languageId": "powershell"
    }
   },
   "outputs": [
    {
     "name": "stdout",
     "output_type": "stream",
     "text": [
      "True\n",
      "0\n",
      "False\n",
      "1\n",
      "True\n",
      "True\n",
      "False\n",
      "True\n",
      "True\n"
     ]
    }
   ],
   "source": [
    "# quirks\n",
    "0 -eq $false\n",
    "[int]$false\n",
    "123 -eq $true\n",
    "[int]$true\n",
    "$false -eq 0\n",
    "$true -eq 123\n",
    "\"cat\" -eq $true\n",
    "[string]$true\n",
    "$true -eq \"cat\""
   ]
  },
  {
   "cell_type": "code",
   "execution_count": 20,
   "metadata": {
    "vscode": {
     "languageId": "powershell"
    }
   },
   "outputs": [
    {
     "name": "stdout",
     "output_type": "stream",
     "text": [
      "Action to perform!\n",
      "1 is the loneliest number\n"
     ]
    }
   ],
   "source": [
    "# if statement\n",
    "if ($true) {\n",
    "    Write-Host \"Action to perform!\"\n",
    "}\n",
    "if (1 -lt 2) {\n",
    "    Write-Host \"1 is the loneliest number\"\n",
    "}"
   ]
  },
  {
   "cell_type": "code",
   "execution_count": 21,
   "metadata": {
    "vscode": {
     "languageId": "powershell"
    }
   },
   "outputs": [
    {
     "name": "stdout",
     "output_type": "stream",
     "text": [
      "they are equal\n"
     ]
    }
   ],
   "source": [
    "# best practice\n",
    "$num = 5\n",
    "if ($num -eq 5) {\n",
    "    Write-Host \"they are equal\"\n",
    "}"
   ]
  },
  {
   "cell_type": "code",
   "execution_count": 22,
   "metadata": {
    "vscode": {
     "languageId": "powershell"
    }
   },
   "outputs": [
    {
     "name": "stdout",
     "output_type": "stream",
     "text": [
      "all on one line...\n"
     ]
    }
   ],
   "source": [
    "# oh...it's alright, but not best practice\n",
    "if ($num -eq 5) { Write-Host \"all on one line...\" }"
   ]
  },
  {
   "cell_type": "code",
   "execution_count": 24,
   "metadata": {
    "vscode": {
     "languageId": "powershell"
    }
   },
   "outputs": [
    {
     "name": "stdout",
     "output_type": "stream",
     "text": [
      "all on one line...\n",
      "they are equal\n"
     ]
    }
   ],
   "source": [
    "# not preferred\n",
    "if($num -eq 5){Write-Host \"all on one line...\"}\n",
    "\n",
    "if ( $num   -eq  5 ) \n",
    "{\n",
    "Write-Host \"they are equal\"\n",
    "}"
   ]
  },
  {
   "cell_type": "code",
   "execution_count": 27,
   "metadata": {
    "vscode": {
     "languageId": "powershell"
    }
   },
   "outputs": [
    {
     "name": "stdout",
     "output_type": "stream",
     "text": [
      "YOU CAN NOT PASS!\n"
     ]
    }
   ],
   "source": [
    "# if statement with both true and false actions\n",
    "$username = \"bob\"\n",
    "if ($username -eq \"admin\") {\n",
    "    Write-Host \"You may pass.\"\n",
    "} else {\n",
    "    Write-Host \"YOU CAN NOT PASS!\"\n",
    "}"
   ]
  },
  {
   "cell_type": "code",
   "execution_count": 31,
   "metadata": {
    "vscode": {
     "languageId": "powershell"
    }
   },
   "outputs": [],
   "source": [
    "# nested if statement\n",
    "$name = \"granny smith\"\n",
    "$colour = \"red\"\n",
    "if ($name -eq \"macintosh\") {\n",
    "    if ($colour -eq \"red\") {\n",
    "        Write-Host \"mmmmm....apple pie.\"\n",
    "    }\n",
    "}"
   ]
  },
  {
   "cell_type": "code",
   "execution_count": 34,
   "metadata": {
    "vscode": {
     "languageId": "powershell"
    }
   },
   "outputs": [
    {
     "name": "stdout",
     "output_type": "stream",
     "text": [
      "mmmmm....apple pie.\n",
      "mmmmm....apple pie.\n",
      "munch...munch...munch...\n",
      "munch...munch...munch...\n"
     ]
    }
   ],
   "source": [
    "# compound if statements\n",
    "$name = \"macintosh\"\n",
    "$colour = \"red\"\n",
    "if ($name -eq \"macintosh\" -and $colour -eq \"red\") {\n",
    "    Write-Host \"mmmmm....apple pie.\"\n",
    "}\n",
    "if ($name -eq \"macintosh\" -or $colour -eq \"green\") {\n",
    "    Write-Host \"mmmmm....apple pie.\"\n",
    "}\n",
    "$InSeason = $true\n",
    "if ($name -eq \"macintosh\" -and $colour -eq \"red\" -and $InSeason) {\n",
    "    Write-Host \"munch...munch...munch...\"\n",
    "}\n",
    "\n",
    "# ??\n",
    "if ($name -eq \"macintosh\" -and ($colour -eq \"red\" -or $InSeason)) {\n",
    "    Write-Host \"munch...munch...munch...\"\n",
    "}"
   ]
  },
  {
   "cell_type": "code",
   "execution_count": 6,
   "metadata": {
    "vscode": {
     "languageId": "powershell"
    }
   },
   "outputs": [
    {
     "name": "stdout",
     "output_type": "stream",
     "text": [
      "purple and red = unknown\n"
     ]
    }
   ],
   "source": [
    "# allow user to enter two primary colours\n",
    "# script will output the mix (or secondary) colour\n",
    "\n",
    "# ask the user for colour 1\n",
    "$Colour1 = \"purple\"\n",
    "\n",
    "# ask the user for colour 2\n",
    "$Colour2 = \"red\"\n",
    "\n",
    "# set mixed colour to a special value\n",
    "$MixedColour = \"unknown\"\n",
    "\n",
    "# move colours in right sequence\n",
    "if ($Colour1 -eq \"yellow\" -and $Colour2 -eq \"red\") {\n",
    "    $Temp = $Colour1\n",
    "    $Colour1 = $Colour2\n",
    "    $Colour2 = $Temp\n",
    "}\n",
    "\n",
    "# assume the user enters 'red' and 'blue'\n",
    "if (($Colour1 -eq \"red\" -and $Colour2 -eq \"blue\") -or\n",
    "    ($Colour1 -eq \"blue\" -and $Colour2 -eq \"red\")) {\n",
    "    # result will be 'violet'\n",
    "    $MixedColour = 'violet'\n",
    "}\n",
    "\n",
    "# assume the user enters 'red' and 'yellow'\n",
    "if ($Colour1 -eq \"red\" -and $Colour2 -eq \"yellow\") {\n",
    "    # result will be 'orange'\n",
    "    $MixedColour = 'orange'\n",
    "}\n",
    "\n",
    "# assume the user enters 'blue' and 'yellow'\n",
    "if ($Colour1 -eq \"blue\" -and $Colour2 -eq \"yellow\") {\n",
    "    # result will be 'green'\n",
    "    $MixedColour = 'green'\n",
    "}\n",
    "\n",
    "# write the mixed colour\n",
    "Write-Host \"$Colour1 and $Colour2 = $MixedColour\""
   ]
  },
  {
   "cell_type": "code",
   "execution_count": 9,
   "metadata": {
    "vscode": {
     "languageId": "powershell"
    }
   },
   "outputs": [
    {
     "name": "stdout",
     "output_type": "stream",
     "text": [
      "blue and red is violet\n"
     ]
    }
   ],
   "source": [
    "# allow user to enter two primary colours\n",
    "# script will output the mix (or secondary) colour\n",
    "\n",
    "# ask the user for colour 1\n",
    "$Colour1 = \"blue\"\n",
    "\n",
    "# ask the user for colour 2\n",
    "$Colour2 = \"red\"\n",
    "\n",
    "# did user enter a primary colour?\n",
    "if ($Colour1 -eq \"red\" -or $Colour1 -eq \"blue\" -or $Colour1 -eq \"yellow\") {\n",
    "    # entered a valid first colour\n",
    "    if ($Colour2 -eq \"red\" -or $Colour2 -eq \"blue\" -or $Colour2 -eq \"yellow\") {\n",
    "        # entered a valid second colour\n",
    "        \n",
    "        # check for red\n",
    "        if ($Colour1 -eq \"red\" -or $Colour2 -eq \"red\") {\n",
    "            # the mixed colour must be either violet or orange\n",
    "            if ($Colour1 -eq \"blue\" -or $Colour2 -eq \"blue\") {\n",
    "                # must be violet\n",
    "                Write-Host \"$Colour1 and $Colour2 is violet\"\n",
    "            } else {\n",
    "                # must be orange\n",
    "                Write-Host \"$Colour1 and $Colour2 is orange\"\n",
    "            }\n",
    "        } else {\n",
    "            # must be green\n",
    "            Write-Host \"$Colour1 and $Colour2 is green\"\n",
    "        }\n",
    "    } else {\n",
    "        Write-Host \"Invalid colour 2\"\n",
    "    }\n",
    "} else {\n",
    "    Write-Host \"Invalid colour 1\"\n",
    "}"
   ]
  },
  {
   "cell_type": "code",
   "execution_count": 13,
   "metadata": {
    "vscode": {
     "languageId": "powershell"
    }
   },
   "outputs": [
    {
     "name": "stdout",
     "output_type": "stream",
     "text": [
      "That would not be a good pie....\n"
     ]
    }
   ],
   "source": [
    "# else if statements\n",
    "$name = \"granny smith\"\n",
    "$colour = \"yellow\"\n",
    "if ($name -eq \"macintosh\" -and $colour -eq \"red\") {\n",
    "    Write-Host \"mmmmm....apple pie.\"\n",
    "} elseif ($name -eq \"macintosh\" -or $colour -eq \"green\") {\n",
    "    Write-Host \"mmmmm....apple pie.\"\n",
    "} elseif ($colour -eq \"red\") {\n",
    "    Write-Host \"I'll still eat it...\"\n",
    "} else {\n",
    "    Write-Host \"That would not be a good pie....\"\n",
    "}\n",
    "\n",
    "if ($name -eq \"macintosh\" -and $colour -eq \"red\") {\n",
    "    Write-Host \"mmmmm....apple pie.\"\n",
    "} else {\n",
    "    if ($name -eq \"macintosh\" -or $colour -eq \"green\") {\n",
    "        Write-Host \"mmmmm....apple pie.\"\n",
    "    } else {\n",
    "        if ($colour -eq \"red\") {\n",
    "            Write-Host \"I'll still eat it...\"\n",
    "        } else {\n",
    "            Write-Host \"That would not be a good pie....\"\n",
    "        }\n",
    "    }\n",
    "}\n"
   ]
  },
  {
   "cell_type": "code",
   "execution_count": null,
   "metadata": {
    "vscode": {
     "languageId": "powershell"
    }
   },
   "outputs": [],
   "source": [
    "# allow user to enter two primary colours\n",
    "# script will output the mix (or secondary) colour\n",
    "\n",
    "# ask the user for colour 1\n",
    "$Colour1 = \"purple\"\n",
    "\n",
    "# ask the user for colour 2\n",
    "$Colour2 = \"red\"\n",
    "\n",
    "# set mixed colour to a special value\n",
    "$MixedColour = \"unknown\"\n",
    "\n",
    "# assume the user enters 'red' and 'blue'\n",
    "if (($Colour1 -eq \"red\" -and $Colour2 -eq \"blue\") -or\n",
    "    ($Colour1 -eq \"blue\" -and $Colour2 -eq \"red\")) {\n",
    "    # result will be 'violet'\n",
    "    $MixedColour = 'violet'\n",
    "}\n",
    "\n",
    "# assume the user enters 'red' and 'yellow'\n",
    "if (($Colour1 -eq \"red\" -and $Colour2 -eq \"yellow\") -or\n",
    "    ($Colour1 -eq \"yellow\" -and $Colour2 -eq \"red\")) {\n",
    "    # result will be 'orange'\n",
    "    $MixedColour = 'orange'\n",
    "}\n",
    "\n",
    "# assume the user enters 'blue' and 'yellow'\n",
    "if (($Colour1 -eq \"blue\" -and $Colour2 -eq \"yellow\") -or\n",
    "    ($Colour1 -eq \"yellow\" -and $Colour2 -eq \"blue\")) {\n",
    "    # result will be 'green'\n",
    "    $MixedColour = 'green'\n",
    "}\n",
    "\n",
    "# write the mixed colour\n",
    "Write-Host \"$Colour1 and $Colour2 = $MixedColour\""
   ]
  },
  {
   "cell_type": "code",
   "execution_count": 18,
   "metadata": {
    "vscode": {
     "languageId": "powershell"
    }
   },
   "outputs": [
    {
     "name": "stdout",
     "output_type": "stream",
     "text": [
      "6\n",
      "5\n",
      "4\n",
      "3\n",
      "2\n"
     ]
    }
   ],
   "source": [
    "# without loops\n",
    "$num = 6\n",
    "if ($num -le 6) {\n",
    "    Write-Host $num\n",
    "}\n",
    "$num = $num - 1\n",
    "if ($num -le 6) {\n",
    "    Write-Host $num\n",
    "}\n",
    "$num = $num - 1\n",
    "if ($num -le 6) {\n",
    "    Write-Host $num\n",
    "}\n",
    "$num = $num - 1\n",
    "if ($num -le 6) {\n",
    "    Write-Host $num\n",
    "}\n",
    "$num = $num - 1\n",
    "if ($num -le 6) {\n",
    "    Write-Host $num\n",
    "}"
   ]
  },
  {
   "cell_type": "code",
   "execution_count": 20,
   "metadata": {
    "vscode": {
     "languageId": "powershell"
    }
   },
   "outputs": [
    {
     "name": "stdout",
     "output_type": "stream",
     "text": [
      "6\n",
      "5\n",
      "4\n",
      "3\n",
      "2\n",
      "1\n",
      "0\n",
      "0\n",
      "1\n",
      "2\n",
      "3\n",
      "4\n",
      "5\n",
      "6\n"
     ]
    }
   ],
   "source": [
    "# with loops\n",
    "$num = 6\n",
    "while ($num -ge 0) {\n",
    "    Write-Host $num\n",
    "    $num = $num - 1\n",
    "}\n",
    "\n",
    "$num = 0\n",
    "while ($num -le 6) {\n",
    "    Write-Host $num\n",
    "    $num = $num + 1\n",
    "}\n"
   ]
  },
  {
   "cell_type": "code",
   "execution_count": 23,
   "metadata": {
    "vscode": {
     "languageId": "powershell"
    }
   },
   "outputs": [
    {
     "name": "stdout",
     "output_type": "stream",
     "text": [
      "You typed red\n"
     ]
    }
   ],
   "source": [
    "# uses a 'sentinel' value\n",
    "$Count = 0\n",
    "$Colour1 = \"\"\n",
    "while (($Colour1 -ne \"red\" -and $Colour1 -ne \"blue\" -and $Colour1 -ne \"yellow\") -and \n",
    "       ($Count -lt 3)) {\n",
    "    $Colour1 = Read-Host \"Enter a primary colour\"\n",
    "    $Count = $Count + 1\n",
    "}\n",
    "if ($Count -lt 3) {\n",
    "    Write-Host \"You typed $Colour1\"\n",
    "} else {\n",
    "    Write-Host \"Please find out what a primary colour is...\"\n",
    "}"
   ]
  },
  {
   "cell_type": "code",
   "execution_count": 25,
   "metadata": {
    "vscode": {
     "languageId": "powershell"
    }
   },
   "outputs": [
    {
     "name": "stdout",
     "output_type": "stream",
     "text": [
      "0\n",
      "1\n",
      "2\n",
      "3\n",
      "4\n",
      "5\n",
      "6\n"
     ]
    }
   ],
   "source": [
    "# do..while\n",
    "$num = 0\n",
    "do {\n",
    "    Write-Host $num\n",
    "    $num += 1 # $num = $num + 1 \n",
    "} while ($num -le 6)\n",
    "\n",
    "do {\n",
    "    $Colour1 = Read-Host \"Enter a primary colour\"\n",
    "} while ($Colour1 -ne \"red\" -and $Colour1 -ne \"blue\" -and $Colour1 -ne \"yellow\")"
   ]
  },
  {
   "cell_type": "code",
   "execution_count": 26,
   "metadata": {
    "vscode": {
     "languageId": "powershell"
    }
   },
   "outputs": [
    {
     "name": "stdout",
     "output_type": "stream",
     "text": [
      "blue\n"
     ]
    }
   ],
   "source": [
    "# do..until\n",
    "do {\n",
    "    $Colour1 = Read-Host \"Enter a primary colour\"\n",
    "} until ($Colour1 -eq \"red\" -or $Colour1 -eq \"blue\" -or $Colour1 -eq \"yellow\")\n",
    "Write-Host $Colour1"
   ]
  },
  {
   "cell_type": "code",
   "execution_count": 1,
   "metadata": {
    "vscode": {
     "languageId": "powershell"
    }
   },
   "outputs": [
    {
     "data": {
      "text/html": [
       "\r\n",
       "<div>\r\n",
       "    <div id='dotnet-interactive-this-cell-4172.Microsoft.DotNet.Interactive.Http.HttpPort' style='display: none'>\r\n",
       "        The below script needs to be able to find the current output cell; this is an easy method to get it.\r\n",
       "    </div>\r\n",
       "    <script type='text/javascript'>\r\n",
       "async function probeAddresses(probingAddresses) {\r\n",
       "    function timeout(ms, promise) {\r\n",
       "        return new Promise(function (resolve, reject) {\r\n",
       "            setTimeout(function () {\r\n",
       "                reject(new Error('timeout'))\r\n",
       "            }, ms)\r\n",
       "            promise.then(resolve, reject)\r\n",
       "        })\r\n",
       "    }\r\n",
       "\r\n",
       "    if (Array.isArray(probingAddresses)) {\r\n",
       "        for (let i = 0; i < probingAddresses.length; i++) {\r\n",
       "\r\n",
       "            let rootUrl = probingAddresses[i];\r\n",
       "\r\n",
       "            if (!rootUrl.endsWith('/')) {\r\n",
       "                rootUrl = `${rootUrl}/`;\r\n",
       "            }\r\n",
       "\r\n",
       "            try {\r\n",
       "                let response = await timeout(1000, fetch(`${rootUrl}discovery`, {\r\n",
       "                    method: 'POST',\r\n",
       "                    cache: 'no-cache',\r\n",
       "                    mode: 'cors',\r\n",
       "                    timeout: 1000,\r\n",
       "                    headers: {\r\n",
       "                        'Content-Type': 'text/plain'\r\n",
       "                    },\r\n",
       "                    body: probingAddresses[i]\r\n",
       "                }));\r\n",
       "\r\n",
       "                if (response.status == 200) {\r\n",
       "                    return rootUrl;\r\n",
       "                }\r\n",
       "            }\r\n",
       "            catch (e) { }\r\n",
       "        }\r\n",
       "    }\r\n",
       "}\r\n",
       "\r\n",
       "function loadDotnetInteractiveApi() {\r\n",
       "    probeAddresses([\"http://192.168.231.131:1000/\", \"http://127.0.0.1:1000/\"])\r\n",
       "        .then((root) => {\r\n",
       "        // use probing to find host url and api resources\r\n",
       "        // load interactive helpers and language services\r\n",
       "        let dotnetInteractiveRequire = require.config({\r\n",
       "        context: '4172.Microsoft.DotNet.Interactive.Http.HttpPort',\r\n",
       "                paths:\r\n",
       "            {\r\n",
       "                'dotnet-interactive': `${root}resources`\r\n",
       "                }\r\n",
       "        }) || require;\r\n",
       "\r\n",
       "            window.dotnetInteractiveRequire = dotnetInteractiveRequire;\r\n",
       "\r\n",
       "            window.configureRequireFromExtension = function(extensionName, extensionCacheBuster) {\r\n",
       "                let paths = {};\r\n",
       "                paths[extensionName] = `${root}extensions/${extensionName}/resources/`;\r\n",
       "                \r\n",
       "                let internalRequire = require.config({\r\n",
       "                    context: extensionCacheBuster,\r\n",
       "                    paths: paths,\r\n",
       "                    urlArgs: `cacheBuster=${extensionCacheBuster}`\r\n",
       "                    }) || require;\r\n",
       "\r\n",
       "                return internalRequire\r\n",
       "            };\r\n",
       "        \r\n",
       "            dotnetInteractiveRequire([\r\n",
       "                    'dotnet-interactive/dotnet-interactive'\r\n",
       "                ],\r\n",
       "                function (dotnet) {\r\n",
       "                    dotnet.init(window);\r\n",
       "                },\r\n",
       "                function (error) {\r\n",
       "                    console.log(error);\r\n",
       "                }\r\n",
       "            );\r\n",
       "        })\r\n",
       "        .catch(error => {console.log(error);});\r\n",
       "    }\r\n",
       "\r\n",
       "// ensure `require` is available globally\r\n",
       "if ((typeof(require) !==  typeof(Function)) || (typeof(require.config) !== typeof(Function))) {\r\n",
       "    let require_script = document.createElement('script');\r\n",
       "    require_script.setAttribute('src', 'https://cdnjs.cloudflare.com/ajax/libs/require.js/2.3.6/require.min.js');\r\n",
       "    require_script.setAttribute('type', 'text/javascript');\r\n",
       "    \r\n",
       "    \r\n",
       "    require_script.onload = function() {\r\n",
       "        loadDotnetInteractiveApi();\r\n",
       "    };\r\n",
       "\r\n",
       "    document.getElementsByTagName('head')[0].appendChild(require_script);\r\n",
       "}\r\n",
       "else {\r\n",
       "    loadDotnetInteractiveApi();\r\n",
       "}\r\n",
       "\r\n",
       "    </script>\r\n",
       "</div>"
      ]
     },
     "metadata": {},
     "output_type": "display_data"
    },
    {
     "name": "stdout",
     "output_type": "stream",
     "text": [
      "0\n",
      "2\n",
      "4\n",
      "0\n",
      "2\n",
      "4\n",
      "0\n",
      "1\n",
      "2\n",
      "3\n",
      "4\n",
      "5\n"
     ]
    }
   ],
   "source": [
    "# for loop\n",
    "$num = 0\n",
    "while ($num -le 5) {\n",
    "    Write-Host $num\n",
    "    # $num++ # $num += 1, $num = $num + 1\n",
    "    $num += 2\n",
    "}\n",
    "\n",
    "for ($num = 0; $num -le 5; $num += 2) {\n",
    "    Write-Host $num\n",
    "}\n",
    "\n",
    "$num = 0\n",
    "for (; $num -le 5; $num++) {\n",
    "    Write-Host $num\n",
    "}\n",
    "# infinite loop\n",
    "# for (;;) {\n",
    "#     Write-Host $num\n",
    "# }"
   ]
  },
  {
   "cell_type": "code",
   "execution_count": null,
   "metadata": {
    "vscode": {
     "languageId": "powershell"
    }
   },
   "outputs": [],
   "source": []
  }
 ],
 "metadata": {
  "kernelspec": {
   "display_name": ".NET (PowerShell)",
   "language": "PowerShell",
   "name": ".net-powershell"
  },
  "language_info": {
   "file_extension": ".ps1",
   "mimetype": "text/x-powershell",
   "name": "PowerShell",
   "pygments_lexer": "powershell",
   "version": "7.0"
  },
  "orig_nbformat": 4
 },
 "nbformat": 4,
 "nbformat_minor": 2
}
