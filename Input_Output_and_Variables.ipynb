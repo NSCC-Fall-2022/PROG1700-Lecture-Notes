{
 "cells": [
  {
   "cell_type": "code",
   "execution_count": 1,
   "metadata": {
    "dotnet_interactive": {
     "language": "pwsh"
    },
    "vscode": {
     "languageId": "dotnet-interactive.pwsh"
    }
   },
   "outputs": [
    {
     "name": "stdout",
     "output_type": "stream",
     "text": [
      "Hello World!\r\n"
     ]
    }
   ],
   "source": [
    "Write-Host \"Hello World!\""
   ]
  },
  {
   "cell_type": "code",
   "execution_count": 2,
   "metadata": {
    "dotnet_interactive": {
     "language": "pwsh"
    },
    "vscode": {
     "languageId": "dotnet-interactive.pwsh"
    }
   },
   "outputs": [],
   "source": [
    "# a comment\n",
    "# these aren't executable lines of code\n",
    "# add as many as needed to explain your script\n",
    "# don't over or under comment your scripts\n",
    "# guideline: a comment every 3-4 lines"
   ]
  },
  {
   "cell_type": "code",
   "execution_count": 3,
   "metadata": {
    "dotnet_interactive": {
     "language": "pwsh"
    },
    "vscode": {
     "languageId": "dotnet-interactive.pwsh"
    }
   },
   "outputs": [],
   "source": [
    "<#\n",
    "    a block comment.\n",
    "    this is just one comment to describe something large.\n",
    "    this type of comment is not needed very often.\n",
    "#>"
   ]
  },
  {
   "cell_type": "code",
   "execution_count": null,
   "metadata": {
    "dotnet_interactive": {
     "language": "pwsh"
    },
    "vscode": {
     "languageId": "dotnet-interactive.pwsh"
    }
   },
   "outputs": [],
   "source": [
    "# clear the powershell window\n",
    "Clear-Host"
   ]
  },
  {
   "cell_type": "code",
   "execution_count": 6,
   "metadata": {
    "dotnet_interactive": {
     "language": "pwsh"
    },
    "vscode": {
     "languageId": "dotnet-interactive.pwsh"
    }
   },
   "outputs": [
    {
     "name": "stdout",
     "output_type": "stream",
     "text": [
      "Hello World!\n"
     ]
    }
   ],
   "source": [
    "# it is legal to leave the quotes off a Write-Host\n",
    "Write-Host Hello World!"
   ]
  },
  {
   "cell_type": "code",
   "execution_count": null,
   "metadata": {
    "dotnet_interactive": {
     "language": "pwsh"
    },
    "vscode": {
     "languageId": "dotnet-interactive.pwsh"
    }
   },
   "outputs": [],
   "source": [
    "# to create a variable\n",
    "\n",
    "# good names for variables\n",
    "$fullName = \"Brian Shewan\"\n",
    "$a = 3 # good use of a letter 'a'\n",
    "$b = 6\n",
    "$pi = 3.14159\n",
    "$address = \"5685 Leeds St\"\n",
    "\n",
    "# bad names for variables\n",
    "$123 = 456  # don't use all numbers\n",
    "$_@#@ = 123 # don't use special characters\n",
    "$123address = \"123 somewhere st.\" # don't start with numbers\n",
    "$first name = \"Brian\" # don't include spaces\n",
    "$a = \"Brian\" # bad use of a letter 'a'\n",
    "\n",
    "# best practices\n",
    "$firstName = \"Brian\" # \"camel casing\"\n",
    "$myStreetAddress = \"123 Somewhere Dr.\"\n",
    "$LastName = \"Shewan\" # \"Pascal Casing\"\n",
    "$YourStreetAddress = \"111 Anywhere St.\"\n"
   ]
  },
  {
   "cell_type": "code",
   "execution_count": 9,
   "metadata": {
    "dotnet_interactive": {
     "language": "pwsh"
    },
    "vscode": {
     "languageId": "dotnet-interactive.pwsh"
    }
   },
   "outputs": [
    {
     "name": "stdout",
     "output_type": "stream",
     "text": [
      "Int32\n",
      "Double\n",
      "String\n"
     ]
    }
   ],
   "source": [
    "# data types\n",
    "$integer = 123\n",
    "$integer.GetType().Name\n",
    "$decimal = 1.2345\n",
    "$decimal.GetType().Name\n",
    "$string = \"Any text is a string\"\n",
    "$string.GetType().Name"
   ]
  },
  {
   "cell_type": "code",
   "execution_count": 13,
   "metadata": {
    "dotnet_interactive": {
     "language": "pwsh"
    },
    "vscode": {
     "languageId": "dotnet-interactive.pwsh"
    }
   },
   "outputs": [
    {
     "name": "stdout",
     "output_type": "stream",
     "text": [
      "3\n",
      "-1\n",
      "2\n",
      "0.5\n"
     ]
    }
   ],
   "source": [
    "# simple math\n",
    "$num1 = 1\n",
    "$num2 = 2\n",
    "Write-Host ($num1 + $num2) # addition\n",
    "Write-Host ($num1 - $num2) # subtraction\n",
    "Write-Host ($num1 * $num2) # multiplication\n",
    "Write-Host ($num1 / $num2) # division"
   ]
  },
  {
   "cell_type": "code",
   "execution_count": 20,
   "metadata": {
    "dotnet_interactive": {
     "language": "pwsh"
    },
    "vscode": {
     "languageId": "dotnet-interactive.pwsh"
    }
   },
   "outputs": [
    {
     "name": "stdout",
     "output_type": "stream",
     "text": [
      "1 + 2 = 3\n",
      "1 + 2 = 3\n"
     ]
    }
   ],
   "source": [
    "# math with a nicer output\n",
    "$num1 = 1\n",
    "$num2 = 2\n",
    "Write-Host $num1 + $num2 = ($num1 + $num2)   # addition\n",
    "Write-Host \"$num1 + $num2 =\" ($num1 + $num2) # addition\n"
   ]
  },
  {
   "cell_type": "code",
   "execution_count": 2,
   "metadata": {
    "dotnet_interactive": {
     "language": "pwsh"
    },
    "vscode": {
     "languageId": "dotnet-interactive.pwsh"
    }
   },
   "outputs": [
    {
     "name": "stdout",
     "output_type": "stream",
     "text": [
      "Home folder: C:\\Users\\nscc\r\n",
      "Profile: C:\\Users\\nscc\\Documents\\PowerShell\\Microsoft.dotnet-interactive_profile.ps1\r\n",
      "PowerShell: Microsoft Windows 10.0.19044\r\n",
      "PWD: C:\\Users\\nscc\\Documents\\Notebooks\r\n",
      "OneDrive: C:\\Users\\nscc\\OneDrive\r\n"
     ]
    }
   ],
   "source": [
    "# environment variables\n",
    "Write-Host \"Home folder: $HOME\"\n",
    "Write-Host \"Profile: $PROFILE\"\n",
    "Write-Host \"PowerShell: $($PSVersionTable.OS)\"\n",
    "Write-Host \"PWD: $PWD\"\n",
    "Write-Host \"OneDrive: $($env:OneDrive)\""
   ]
  },
  {
   "cell_type": "code",
   "execution_count": 43,
   "metadata": {
    "dotnet_interactive": {
     "language": "pwsh"
    },
    "vscode": {
     "languageId": "dotnet-interactive.pwsh"
    }
   },
   "outputs": [
    {
     "name": "stdout",
     "output_type": "stream",
     "text": [
      "3\n",
      "12\n",
      "12\n",
      "3\n",
      "1a2\n",
      "onetwo\n",
      "3.3\n",
      "1.12.2\n",
      "3.3\n",
      "1.12.2\n"
     ]
    }
   ],
   "source": [
    "# combining data types\n",
    "1 + 2       # addition of integers\n",
    "\"1\" + \"2\"   # concatenation of strings\n",
    "\"1\" + 2     # concatenation of strings\n",
    "1 + \"2\"     # addition of integers\n",
    "\"1a\" + 2    # concatenation of strings\n",
    "#1 + \"2a\"    # error!\n",
    "\"one\" + \"two\" # still just strings\n",
    "#one + two   # error!\n",
    "1.1 + 2.2   # addition      \n",
    "\"1.1\" + \"2.2\" # concatenated\n",
    "1.1 + \"2.2\" # addition\n",
    "\"1.1\" + 2.2 # concatenated\n"
   ]
  },
  {
   "cell_type": "code",
   "execution_count": null,
   "metadata": {
    "dotnet_interactive": {
     "language": "pwsh"
    },
    "vscode": {
     "languageId": "dotnet-interactive.pwsh"
    }
   },
   "outputs": [],
   "source": []
  },
  {
   "cell_type": "code",
   "execution_count": 52,
   "metadata": {
    "dotnet_interactive": {
     "language": "pwsh"
    },
    "vscode": {
     "languageId": "dotnet-interactive.pwsh"
    }
   },
   "outputs": [
    {
     "name": "stdout",
     "output_type": "stream",
     "text": [
      "string\n",
      "123\n",
      "3.14159\n",
      "num = 12345 3.14159 more text\n",
      "num = 12345 3.14159 more text\n"
     ]
    }
   ],
   "source": [
    "# outputting data types\n",
    "Write-Host \"string\"\n",
    "Write-Host 123\n",
    "Write-Host 3.14159\n",
    "Write-Host \"num =\" 12345 3.14159 \"more text\"    # notice the spaces!\n",
    "Write-Host \"num =\",12345,3.14159,\"more text\"    # using commas instead.\n"
   ]
  },
  {
   "cell_type": "code",
   "execution_count": 68,
   "metadata": {
    "dotnet_interactive": {
     "language": "pwsh"
    },
    "vscode": {
     "languageId": "dotnet-interactive.pwsh"
    }
   },
   "outputs": [
    {
     "name": "stdout",
     "output_type": "stream",
     "text": [
      "8\n",
      "5\n",
      "12\n",
      "13\n",
      "12.46\n",
      "3.14159265358979\n",
      "12\n",
      "123.435\n",
      "123\n"
     ]
    }
   ],
   "source": [
    "# more math\n",
    "\n",
    "# exponents (using the .NET framework)\n",
    "[Math]::Pow(2, 3)            # 2 to the power 3 (a.k.a \"2 cubed\")\n",
    "[Math]::Sqrt(25)             # the square root of 25\n",
    "\n",
    "# decimals\n",
    "[Math]::Floor(12.458)        # removes the decimal\n",
    "[Math]::Ceiling(12.458)      # always round up\n",
    "[Math]::Round(12.4559876, 2) # round to 2 decimal places\n",
    "[Math]::PI                   # easy use of PI\n",
    "\n",
    "# some PowerShell methods instead\n",
    "[int]12.458\n",
    "#[int]\"abc\"      # error!\n",
    "[string]123.435\n",
    "[double]123\n"
   ]
  },
  {
   "cell_type": "code",
   "execution_count": 1,
   "metadata": {
    "dotnet_interactive": {
     "language": "pwsh"
    },
    "vscode": {
     "languageId": "dotnet-interactive.pwsh"
    }
   },
   "outputs": [
    {
     "data": {
      "text/html": [
       "\r\n",
       "<div>\r\n",
       "    <div id='dotnet-interactive-this-cell-7440.Microsoft.DotNet.Interactive.Http.HttpPort' style='display: none'>\r\n",
       "        The below script needs to be able to find the current output cell; this is an easy method to get it.\r\n",
       "    </div>\r\n",
       "    <script type='text/javascript'>\r\n",
       "async function probeAddresses(probingAddresses) {\r\n",
       "    function timeout(ms, promise) {\r\n",
       "        return new Promise(function (resolve, reject) {\r\n",
       "            setTimeout(function () {\r\n",
       "                reject(new Error('timeout'))\r\n",
       "            }, ms)\r\n",
       "            promise.then(resolve, reject)\r\n",
       "        })\r\n",
       "    }\r\n",
       "\r\n",
       "    if (Array.isArray(probingAddresses)) {\r\n",
       "        for (let i = 0; i < probingAddresses.length; i++) {\r\n",
       "\r\n",
       "            let rootUrl = probingAddresses[i];\r\n",
       "\r\n",
       "            if (!rootUrl.endsWith('/')) {\r\n",
       "                rootUrl = `${rootUrl}/`;\r\n",
       "            }\r\n",
       "\r\n",
       "            try {\r\n",
       "                let response = await timeout(1000, fetch(`${rootUrl}discovery`, {\r\n",
       "                    method: 'POST',\r\n",
       "                    cache: 'no-cache',\r\n",
       "                    mode: 'cors',\r\n",
       "                    timeout: 1000,\r\n",
       "                    headers: {\r\n",
       "                        'Content-Type': 'text/plain'\r\n",
       "                    },\r\n",
       "                    body: probingAddresses[i]\r\n",
       "                }));\r\n",
       "\r\n",
       "                if (response.status == 200) {\r\n",
       "                    return rootUrl;\r\n",
       "                }\r\n",
       "            }\r\n",
       "            catch (e) { }\r\n",
       "        }\r\n",
       "    }\r\n",
       "}\r\n",
       "\r\n",
       "function loadDotnetInteractiveApi() {\r\n",
       "    probeAddresses([\"http://192.168.231.131:1000/\", \"http://127.0.0.1:1000/\"])\r\n",
       "        .then((root) => {\r\n",
       "        // use probing to find host url and api resources\r\n",
       "        // load interactive helpers and language services\r\n",
       "        let dotnetInteractiveRequire = require.config({\r\n",
       "        context: '7440.Microsoft.DotNet.Interactive.Http.HttpPort',\r\n",
       "                paths:\r\n",
       "            {\r\n",
       "                'dotnet-interactive': `${root}resources`\r\n",
       "                }\r\n",
       "        }) || require;\r\n",
       "\r\n",
       "            window.dotnetInteractiveRequire = dotnetInteractiveRequire;\r\n",
       "\r\n",
       "            window.configureRequireFromExtension = function(extensionName, extensionCacheBuster) {\r\n",
       "                let paths = {};\r\n",
       "                paths[extensionName] = `${root}extensions/${extensionName}/resources/`;\r\n",
       "                \r\n",
       "                let internalRequire = require.config({\r\n",
       "                    context: extensionCacheBuster,\r\n",
       "                    paths: paths,\r\n",
       "                    urlArgs: `cacheBuster=${extensionCacheBuster}`\r\n",
       "                    }) || require;\r\n",
       "\r\n",
       "                return internalRequire\r\n",
       "            };\r\n",
       "        \r\n",
       "            dotnetInteractiveRequire([\r\n",
       "                    'dotnet-interactive/dotnet-interactive'\r\n",
       "                ],\r\n",
       "                function (dotnet) {\r\n",
       "                    dotnet.init(window);\r\n",
       "                },\r\n",
       "                function (error) {\r\n",
       "                    console.log(error);\r\n",
       "                }\r\n",
       "            );\r\n",
       "        })\r\n",
       "        .catch(error => {console.log(error);});\r\n",
       "    }\r\n",
       "\r\n",
       "// ensure `require` is available globally\r\n",
       "if ((typeof(require) !==  typeof(Function)) || (typeof(require.config) !== typeof(Function))) {\r\n",
       "    let require_script = document.createElement('script');\r\n",
       "    require_script.setAttribute('src', 'https://cdnjs.cloudflare.com/ajax/libs/require.js/2.3.6/require.min.js');\r\n",
       "    require_script.setAttribute('type', 'text/javascript');\r\n",
       "    \r\n",
       "    \r\n",
       "    require_script.onload = function() {\r\n",
       "        loadDotnetInteractiveApi();\r\n",
       "    };\r\n",
       "\r\n",
       "    document.getElementsByTagName('head')[0].appendChild(require_script);\r\n",
       "}\r\n",
       "else {\r\n",
       "    loadDotnetInteractiveApi();\r\n",
       "}\r\n",
       "\r\n",
       "    </script>\r\n",
       "</div>"
      ]
     },
     "metadata": {},
     "output_type": "display_data"
    },
    {
     "name": "stdout",
     "output_type": "stream",
     "text": [
      "2\n",
      "2\n",
      "1\n"
     ]
    }
   ],
   "source": [
    "# integer division\n",
    "10 / 5\n",
    "[int](11 / 5)\n",
    "11 % 5          # modulus division (remainder)"
   ]
  },
  {
   "cell_type": "code",
   "execution_count": 2,
   "metadata": {
    "dotnet_interactive": {
     "language": "pwsh"
    },
    "vscode": {
     "languageId": "dotnet-interactive.pwsh"
    }
   },
   "outputs": [
    {
     "name": "stdout",
     "output_type": "stream",
     "text": [
      "something important\n"
     ]
    }
   ],
   "source": [
    "# a single comment\n",
    "Write-Host \"something important\"    # a short comment\n",
    "<#\n",
    "    a multiple line comment\n",
    "    useful for a paragraph or more of comments\n",
    "#>"
   ]
  },
  {
   "cell_type": "code",
   "execution_count": 7,
   "metadata": {
    "dotnet_interactive": {
     "language": "pwsh"
    },
    "vscode": {
     "languageId": "dotnet-interactive.pwsh"
    }
   },
   "outputs": [
    {
     "name": "stdout",
     "output_type": "stream",
     "text": [
      "John Smith123 somewhere dr.\n",
      "Sum: 579\n",
      "answer: 126.59759\n",
      "combined: 705.59759\n"
     ]
    }
   ],
   "source": [
    "$Name = \"John Smith\"\n",
    "$Num = 123\n",
    "$Dec = 123.456\n",
    "\n",
    "$Address = \"123 somewhere dr.\"\n",
    "$UserInformation = $Name + $Address\n",
    "Write-Host $UserInformation\n",
    "\n",
    "$Sum = $Num + 456\n",
    "Write-Host \"Sum: $Sum\"\n",
    "\n",
    "$Answer = $Dec + 3.14159\n",
    "Write-Host \"answer: $Answer\"\n",
    "\n",
    "$CombinedNumber = $Sum + $Answer\n",
    "Write-Host \"combined: $CombinedNumber\""
   ]
  },
  {
   "cell_type": "code",
   "execution_count": 12,
   "metadata": {
    "dotnet_interactive": {
     "language": "pwsh"
    },
    "vscode": {
     "languageId": "dotnet-interactive.pwsh"
    }
   },
   "outputs": [
    {
     "name": "stdout",
     "output_type": "stream",
     "text": [
      "4444444\n",
      "2222222\n"
     ]
    }
   ],
   "source": [
    "$BigNumber = 11111111\n",
    "\n",
    "\n",
    "$bigNumber = 2222222\n",
    "Write-Host ($BigNumber + $bigNumber)\n",
    "write-host $bigNumber"
   ]
  },
  {
   "cell_type": "code",
   "execution_count": 19,
   "metadata": {
    "dotnet_interactive": {
     "language": "pwsh"
    },
    "vscode": {
     "languageId": "dotnet-interactive.pwsh"
    }
   },
   "outputs": [
    {
     "name": "stdout",
     "output_type": "stream",
     "text": [
      "11 / 2 = 5 Remainder 1\n"
     ]
    }
   ],
   "source": [
    "$Num1 = 11\n",
    "$Num2 = 2\n",
    "$Dividend = [Math]::Floor($Num1 / $Num2)\n",
    "#$Dividend = [int]($Num1 / $Num2) # rounds answer up\n",
    "$Remainder = $Num1 % $Num2 # modulus division\n",
    "Write-Host \"$Num1 / $Num2 = $Dividend Remainder $Remainder\""
   ]
  },
  {
   "cell_type": "code",
   "execution_count": 20,
   "metadata": {
    "dotnet_interactive": {
     "language": "pwsh"
    },
    "vscode": {
     "languageId": "dotnet-interactive.pwsh"
    }
   },
   "outputs": [
    {
     "name": "stdout",
     "output_type": "stream",
     "text": [
      "y = 6\n"
     ]
    }
   ],
   "source": [
    "# Problem: Determine where a line crosses the y-axis\n",
    "# Given: y = mx + b, m = 3 and b = 6\n",
    "# Assume: x = 0 at the y-axis\n",
    "\n",
    "$m = 3\n",
    "$b = 6\n",
    "$x = 0\n",
    "\n",
    "$y = $m * $x + $b\n",
    "Write-Host \"y = $y\"\n"
   ]
  },
  {
   "cell_type": "code",
   "execution_count": 42,
   "metadata": {
    "dotnet_interactive": {
     "language": "pwsh"
    },
    "vscode": {
     "languageId": "dotnet-interactive.pwsh"
    }
   },
   "outputs": [
    {
     "name": "stdout",
     "output_type": "stream",
     "text": [
      "Federal Tax: $2728.8\n",
      "Federal Tax: $2728.80\n",
      "Federal Tax: $2,728.80\n",
      "32000 0.0879 11481 1803.6201\n",
      "'32000', '0.1495', '', '360.295'\n",
      "Provincial Tax: $2,163.92\n"
     ]
    }
   ],
   "source": [
    "# Problem: Tax Time!!\n",
    "# A person made $32000 for year\n",
    "# How much federal and provincial tax do they have?\n",
    "\n",
    "# Federal Tax Rate: 15%\n",
    "# Provincial Tax Rate: 8.79% up $29,590 and 14.95% for the remainder\n",
    "\n",
    "# Federal Base Amount: $13,808\n",
    "# Provincial Base Amount: $11,481\n",
    "\n",
    "$Income = 32000             # $32,000\n",
    "\n",
    "$FederalTaxRate = 0.15      # 15%\n",
    "$FederalBaseAmount = 13808  # $13,808\n",
    "$FederalTax = ($Income - $FederalBaseAmount) * $FederalTaxRate\n",
    "$FederalTax = [Math]::Round($FederalTax, 2)\n",
    "Write-Host \"Federal Tax: `$$($FederalTax)\"\n",
    "Write-Host (\"Federal Tax: `${0:#.00}\" -f $FederalTax)\n",
    "Write-Host (\"Federal Tax: {0:C}\" -f $FederalTax)\n",
    "\n",
    "$ProvincialTaxRate = 0.0879     # 8.79%\n",
    "$ProvincialBaseAmount = 11481   # $11,481 up to $29,590\n",
    "$ProvincialTax1 = ($Income - $ProvincialBaseAmount) * $ProvincialTaxRate\n",
    "Write-Host $Income, $ProvincialTaxRate, $ProvincialBaseAmount, $ProvincialTax1\n",
    "\n",
    "\n",
    "$ProvincialTaxRate = 0.1495     # 14.95%\n",
    "$ProvincialTaxedAmount = $Income - 29590  # $29,591 up to $32000\n",
    "$ProvincialTax2 = $ProvincialTaxedAmount * $ProvincialTaxRate\n",
    "Write-Host \"'$Income', '$ProvincialTaxRate', '$ProvincailTaxedAmount', '$ProvincialTax2'\"\n",
    "\n",
    "$ProvincialTax = [Math]::Round($ProvincialTax1 + $ProvincialTax2, 2)\n",
    "Write-Host (\"Provincial Tax: {0:C}\" -f $ProvincialTax)\n",
    "\n"
   ]
  },
  {
   "cell_type": "code",
   "execution_count": 43,
   "metadata": {
    "dotnet_interactive": {
     "language": "pwsh"
    },
    "vscode": {
     "languageId": "dotnet-interactive.pwsh"
    }
   },
   "outputs": [
    {
     "name": "stdout",
     "output_type": "stream",
     "text": [
      "test 123\n"
     ]
    }
   ],
   "source": [
    "# formatted string\n",
    "\"test {0}\" -f 123"
   ]
  },
  {
   "cell_type": "code",
   "execution_count": 4,
   "metadata": {
    "dotnet_interactive": {
     "language": "pwsh"
    },
    "vscode": {
     "languageId": "dotnet-interactive.pwsh"
    }
   },
   "outputs": [
    {
     "name": "stdout",
     "output_type": "stream",
     "text": [
      "Dec: 12345, Hex: 76543\r\n"
     ]
    }
   ],
   "source": [
    "# hexadecimal numbers\n",
    "$DecimalNumber = 12345\n",
    "$HexadecimalNumber = 0x12AFF\n",
    "Write-Host \"Dec: $DecimalNumber, Hex: $HexadecimalNumber\""
   ]
  },
  {
   "cell_type": "code",
   "execution_count": 13,
   "metadata": {
    "dotnet_interactive": {
     "language": "pwsh"
    },
    "vscode": {
     "languageId": "dotnet-interactive.pwsh"
    }
   },
   "outputs": [
    {
     "name": "stdout",
     "output_type": "stream",
     "text": [
      "Already has a carriage return\r\n",
      "This will end up on the next line\r\n",
      "This is a very long line of text, and I don't want to put it all on one line of code.\r\n",
      "A is for Apple,\n",
      "B is for Banana,\n",
      "C is for Carrot,\n",
      "D is for Dog\r\n",
      "10\r\n"
     ]
    }
   ],
   "source": [
    "# carriage returns\n",
    "Write-Host \"Already has a carriage return\"\n",
    "Write-Host \"This will end up on the next line\"\n",
    "\n",
    "Write-Host \"This is a very long line of text, \" -NoNewline\n",
    "Write-Host \"and I don't want to put it all on one line of code.\"\n",
    "\n",
    "Write-Host \"A is for Apple,`nB is for Banana,`nC is for Carrot,`nD is for Dog\"\n",
    "$string = \"`n\"\n",
    "[byte][char]$string\n"
   ]
  },
  {
   "cell_type": "code",
   "execution_count": 24,
   "metadata": {
    "dotnet_interactive": {
     "language": "pwsh"
    },
    "vscode": {
     "languageId": "dotnet-interactive.pwsh"
    }
   },
   "outputs": [
    {
     "name": "stdout",
     "output_type": "stream",
     "text": [
      "192.168.2.1\r\n",
      "192.168.2.1\r\n",
      "192.168.2.1\r\n"
     ]
    }
   ],
   "source": [
    "# formatted strings\n",
    "\n",
    "# concatentate strings\n",
    "$OneString = \"one \" + \"string\"\n",
    "\n",
    "# combining strings and numbers\n",
    "$StringsAndNumbers = \"abc\" + 123\n",
    "\n",
    "# ip address\n",
    "\"192\" + \".\" + 168 + \".\" + 2 + \".\" + 1\n",
    "\n",
    "\"{0}.{1}.{2}.{3}\" -f 192, 168, 2, 1\n",
    "\n",
    "$octet1 = 192\n",
    "$octet2 = 168\n",
    "$octet3 = 2\n",
    "$octet4 = 1\n",
    "\"{0}.{1}.{2}.{3}\" -f $octet1, $octet2, $octet3, $octet4\n"
   ]
  },
  {
   "cell_type": "code",
   "execution_count": 25,
   "metadata": {
    "dotnet_interactive": {
     "language": "pwsh"
    },
    "vscode": {
     "languageId": "dotnet-interactive.pwsh"
    }
   },
   "outputs": [
    {
     "name": "stdout",
     "output_type": "stream",
     "text": [
      "Your name is Brian Shewan\r\n"
     ]
    }
   ],
   "source": [
    "# getting input from the user\n",
    "\n",
    "$name = Read-Host \"Enter your name\"\n",
    "Write-Host \"Your name is $name\""
   ]
  },
  {
   "cell_type": "code",
   "execution_count": 30,
   "metadata": {
    "dotnet_interactive": {
     "language": "pwsh"
    },
    "vscode": {
     "languageId": "dotnet-interactive.pwsh"
    }
   },
   "outputs": [
    {
     "name": "stdout",
     "output_type": "stream",
     "text": [
      "String\r\n",
      "12a12a\r\n",
      "\u001b[91mInvalidArgument: \r\n",
      "\u001b[96mLine |\r\n",
      "\u001b[96m   9 | \u001b[0m \u001b[96m[int]$number + [int]$number\u001b[0m\r\n",
      "\u001b[96m     | \u001b[91m ~~~~~~~~~~~~~~~~~~~~~~~~~~~\r\n",
      "\u001b[91m\u001b[96m     | \u001b[91mCannot convert value \"12a\" to type \"System.Int32\". Error: \"Input string was not in a correct format.\"\u001b[0m\r\n",
      "\u001b[91mInvalidArgument: \r\n",
      "\u001b[96mLine |\r\n",
      "\u001b[96m  12 | \u001b[0m \u001b[96m$number = [int](Read-Host \"Enter a number\")\u001b[0m\r\n",
      "\u001b[96m     | \u001b[91m ~~~~~~~~~~~~~~~~~~~~~~~~~~~~~~~~~~~~~~~~~~~\r\n",
      "\u001b[91m\u001b[96m     | \u001b[91mCannot convert value \"12a\" to type \"System.Int32\". Error: \"Input string was not in a correct format.\"\u001b[0m\r\n",
      "String\r\n"
     ]
    }
   ],
   "source": [
    "# entering numbers\n",
    "$number = Read-Host \"Enter a number\"\n",
    "Write-Host $number.GetType().Name\n",
    "\n",
    "# doesn't add...\n",
    "$number + $number\n",
    "\n",
    "# does add\n",
    "[int]$number + [int]$number\n",
    "\n",
    "# number is actually a number now\n",
    "$number = [int](Read-Host \"Enter a number\")\n",
    "Write-Host $number.GetType().Name\n"
   ]
  },
  {
   "cell_type": "code",
   "execution_count": null,
   "metadata": {
    "dotnet_interactive": {
     "language": "pwsh"
    },
    "vscode": {
     "languageId": "dotnet-interactive.pwsh"
    }
   },
   "outputs": [],
   "source": []
  }
 ],
 "metadata": {
  "kernelspec": {
   "display_name": ".NET (PowerShell)",
   "language": "PowerShell",
   "name": ".net-powershell"
  },
  "language_info": {
   "file_extension": ".ps1",
   "mimetype": "text/x-powershell",
   "name": "PowerShell",
   "pygments_lexer": "powershell",
   "version": "7.0"
  },
  "orig_nbformat": 4
 },
 "nbformat": 4,
 "nbformat_minor": 2
}
