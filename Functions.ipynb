{
 "cells": [
  {
   "cell_type": "code",
   "execution_count": 3,
   "metadata": {
    "vscode": {
     "languageId": "powershell"
    }
   },
   "outputs": [
    {
     "name": "stdout",
     "output_type": "stream",
     "text": [
      "Hello World!\n",
      "Hello World!\n",
      "Hello World!\n",
      "Hello World!\n",
      "Hello World!\n"
     ]
    }
   ],
   "source": [
    "# a simple function\n",
    "# function definition\n",
    "function Write-Hello {\n",
    "    Write-Host \"Hello World!\"\n",
    "}\n",
    "\n",
    "# function usage\n",
    "for ($i=0; $i -lt 5; $i++) {\n",
    "    Write-Hello\n",
    "}"
   ]
  },
  {
   "cell_type": "code",
   "execution_count": 4,
   "metadata": {
    "vscode": {
     "languageId": "powershell"
    }
   },
   "outputs": [],
   "source": [
    "# another example\n",
    "function Start-PSAdmin {\n",
    "    Start-Process PowerShell -Verb RunAs\n",
    "}\n",
    "\n",
    "Start-PSAdmin"
   ]
  },
  {
   "cell_type": "code",
   "execution_count": 7,
   "metadata": {
    "vscode": {
     "languageId": "powershell"
    }
   },
   "outputs": [
    {
     "name": "stdout",
     "output_type": "stream",
     "text": [
      "Bonjourno\n",
      "Hello?\n",
      "Bonjourno\n"
     ]
    }
   ],
   "source": [
    "# scope example\n",
    "function Write-Hello {\n",
    "    Write-Host $Greeting\n",
    "    $Greeting = \"Hello?\"\n",
    "    Write-Host $Greeting\n",
    "}\n",
    "$Greeting = \"Bonjourno\"\n",
    "Write-Hello\n",
    "Write-Host $Greeting"
   ]
  },
  {
   "cell_type": "code",
   "execution_count": 10,
   "metadata": {
    "vscode": {
     "languageId": "powershell"
    }
   },
   "outputs": [
    {
     "name": "stdout",
     "output_type": "stream",
     "text": [
      "Current user: johndoe\n"
     ]
    }
   ],
   "source": [
    "# another scope example\n",
    "$CurrentUser = \"\"\n",
    "\n",
    "function Login-User {\n",
    "    #... do some authentication magic here\n",
    "    $script:CurrentUser = \"johndoe\"\n",
    "}\n",
    "\n",
    "Login-User\n",
    "Write-Host \"Current user: $CurrentUser\""
   ]
  },
  {
   "cell_type": "code",
   "execution_count": 11,
   "metadata": {
    "vscode": {
     "languageId": "powershell"
    }
   },
   "outputs": [
    {
     "name": "stdout",
     "output_type": "stream",
     "text": [
      "5\n"
     ]
    }
   ],
   "source": [
    "# confusing example\n",
    "function Confuse-Me {\n",
    "    $script:Number = [Math]::Sqrt($Number)\n",
    "}\n",
    "\n",
    "$Number = 25\n",
    "Confuse-Me\n",
    "Write-Host $Number\n",
    "\n",
    "# moral: limit the use of script variables"
   ]
  },
  {
   "cell_type": "code",
   "execution_count": 13,
   "metadata": {
    "vscode": {
     "languageId": "powershell"
    }
   },
   "outputs": [
    {
     "name": "stdout",
     "output_type": "stream",
     "text": [
      "5\n"
     ]
    }
   ],
   "source": [
    "# a better approach\n",
    "function Calc-SquareRoot($SquareNumber) {\n",
    "    Write-Host ([Math]::Sqrt($SquareNumber))\n",
    "}\n",
    "\n",
    "$Number = 25\n",
    "Calc-SquareRoot $Number"
   ]
  },
  {
   "cell_type": "code",
   "execution_count": 18,
   "metadata": {
    "vscode": {
     "languageId": "powershell"
    }
   },
   "outputs": [
    {
     "name": "stdout",
     "output_type": "stream",
     "text": [
      "Monday Morning: I need some Coffee and some Eggs and a high paid therapist keeps me from killing myself.\n",
      "Monday Morning: I need some Coffee and some Eggs and No Bullets keeps me from killing myself.\n"
     ]
    }
   ],
   "source": [
    "# an expanded use of parameters\n",
    "function Start-Monday ($Drink, $Food, $ReasonToLive) {\n",
    "    Write-Host \"Monday Morning: \" -NoNewline\n",
    "    Write-Host \"I need some $Drink \" -NoNewline\n",
    "    Write-Host \"and some $Food \" -NoNewline\n",
    "    Write-Host \"and $ReasonToLive keeps me from killing myself.\"\n",
    "}\n",
    "Start-Monday \"Coffee\" \"Eggs\" \"a high paid therapist\"\n",
    "Start-Monday -Food \"Eggs\" -Drink \"Coffee\" -ReasonToLive \"No Bullets\""
   ]
  },
  {
   "cell_type": "code",
   "execution_count": 19,
   "metadata": {
    "vscode": {
     "languageId": "powershell"
    }
   },
   "outputs": [
    {
     "name": "stdout",
     "output_type": "stream",
     "text": [
      "2\n"
     ]
    }
   ],
   "source": [
    "# how to generate a random number\n",
    "Get-Random -Minimum 1 -Maximum 10"
   ]
  },
  {
   "cell_type": "code",
   "execution_count": null,
   "metadata": {
    "vscode": {
     "languageId": "powershell"
    }
   },
   "outputs": [],
   "source": []
  }
 ],
 "metadata": {
  "kernelspec": {
   "display_name": ".NET (PowerShell)",
   "language": "PowerShell",
   "name": ".net-powershell"
  },
  "language_info": {
   "file_extension": ".ps1",
   "mimetype": "text/x-powershell",
   "name": "PowerShell",
   "pygments_lexer": "powershell",
   "version": "7.0"
  },
  "orig_nbformat": 4,
  "vscode": {
   "interpreter": {
    "hash": "ce048e7ded53ec30e2333b066aa18bb43b92dc46842bb237add1d02658bf00eb"
   }
  }
 },
 "nbformat": 4,
 "nbformat_minor": 2
}
