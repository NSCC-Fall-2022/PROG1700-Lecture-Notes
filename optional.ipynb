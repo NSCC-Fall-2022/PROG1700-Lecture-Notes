{
 "cells": [
  {
   "cell_type": "code",
   "execution_count": null,
   "metadata": {
    "dotnet_interactive": {
     "language": "pwsh"
    },
    "polyglot_notebook": {
     "kernelName": "pwsh"
    }
   },
   "outputs": [],
   "source": [
    "$data = \"An apple Apple a day...\"\n",
    "$data -match \"apple\"\n",
    "$data -match \"pear\""
   ]
  },
  {
   "cell_type": "code",
   "execution_count": null,
   "metadata": {
    "dotnet_interactive": {
     "language": "pwsh"
    },
    "polyglot_notebook": {
     "kernelName": "pwsh"
    }
   },
   "outputs": [],
   "source": [
    "$data = \"1234\"\n",
    "$data -match \"\\d\\d\\d\\d\""
   ]
  },
  {
   "cell_type": "code",
   "execution_count": null,
   "metadata": {
    "dotnet_interactive": {
     "language": "pwsh"
    },
    "polyglot_notebook": {
     "kernelName": "pwsh"
    }
   },
   "outputs": [],
   "source": [
    "$data = [regex]\"\\d\\d\\d \\d\\d\\d\"\n",
    "$info = $data.Match(\"123 456\")\n",
    "$info.Value"
   ]
  },
  {
   "cell_type": "code",
   "execution_count": null,
   "metadata": {
    "dotnet_interactive": {
     "language": "pwsh"
    },
    "polyglot_notebook": {
     "kernelName": "pwsh"
    }
   },
   "outputs": [],
   "source": [
    "$info = \"Smith,John ...\"\n",
    "$regex = [regex]\"([a-zA-Z]*),\"\n",
    "$lastname = $regex.Match($info)\n",
    "$lastname.Value"
   ]
  },
  {
   "cell_type": "code",
   "execution_count": null,
   "metadata": {
    "dotnet_interactive": {
     "language": "pwsh"
    },
    "polyglot_notebook": {
     "kernelName": "pwsh"
    }
   },
   "outputs": [],
   "source": [
    "$info = \"Smith,John ...\"\n",
    "$regex = \"([a-zA-Z]*),\"\n",
    "$info -match $regex\n",
    "$Matches"
   ]
  },
  {
   "cell_type": "code",
   "execution_count": null,
   "metadata": {
    "dotnet_interactive": {
     "language": "pwsh"
    },
    "polyglot_notebook": {
     "kernelName": "pwsh"
    }
   },
   "outputs": [],
   "source": [
    "$info = \"Smith,John ...\"\n",
    "$regex = [regex]\"([a-zA-Z]*),\"\n",
    "$lastname = $regex.Match($info)\n",
    "$lastname.Groups"
   ]
  },
  {
   "cell_type": "code",
   "execution_count": null,
   "metadata": {
    "dotnet_interactive": {
     "language": "pwsh"
    },
    "polyglot_notebook": {
     "kernelName": "pwsh"
    }
   },
   "outputs": [],
   "source": [
    "\"happy days\" -replace \"[a-z]{3}p+y\",\"sad\""
   ]
  },
  {
   "cell_type": "code",
   "execution_count": null,
   "metadata": {
    "dotnet_interactive": {
     "language": "pwsh"
    },
    "polyglot_notebook": {
     "kernelName": "pwsh"
    }
   },
   "outputs": [],
   "source": [
    "\"#h@a`$p%p^y d!a@y#s\" -replace \"[^a-z ]\",\"\""
   ]
  },
  {
   "cell_type": "code",
   "execution_count": null,
   "metadata": {
    "dotnet_interactive": {
     "language": "pwsh"
    },
    "polyglot_notebook": {
     "kernelName": "pwsh"
    }
   },
   "outputs": [],
   "source": [
    "\"happy days\" -replace \"(happy) (days)\",'$2 $1'"
   ]
  },
  {
   "cell_type": "code",
   "execution_count": null,
   "metadata": {
    "dotnet_interactive": {
     "language": "pwsh"
    },
    "polyglot_notebook": {
     "kernelName": "pwsh"
    }
   },
   "outputs": [],
   "source": [
    "# standard if/elseif/else statement\n",
    "$num = 5\n",
    "\n",
    "if ($num -eq 1) {\n",
    "    \"one\"\n",
    "} elseif ($num -eq 2) {\n",
    "    \"two\"\n",
    "} elseif ($num -eq 3) {\n",
    "    \"three\"\n",
    "} else {\n",
    "    \"other\"\n",
    "}"
   ]
  },
  {
   "cell_type": "code",
   "execution_count": null,
   "metadata": {
    "dotnet_interactive": {
     "language": "pwsh"
    },
    "polyglot_notebook": {
     "kernelName": "pwsh"
    }
   },
   "outputs": [],
   "source": [
    "# switch version\n",
    "$num = 2\n",
    "\n",
    "switch ($num) {\n",
    "    1 { \"one\" }\n",
    "    2 { \"two\" }\n",
    "    3 { \"three\" }\n",
    "    default { \"other\" }\n",
    "}"
   ]
  },
  {
   "cell_type": "code",
   "execution_count": null,
   "metadata": {
    "dotnet_interactive": {
     "language": "pwsh"
    },
    "polyglot_notebook": {
     "kernelName": "pwsh"
    }
   },
   "outputs": [],
   "source": [
    "# switch version\n",
    "$num = 1\n",
    "\n",
    "switch ($num) {\n",
    "    1 { \"one\" }\n",
    "    2 { \"two\" }\n",
    "    3 { \"three\" }\n",
    "    1 { \"one again??\" }\n",
    "    default { \"other\" }\n",
    "}"
   ]
  },
  {
   "cell_type": "code",
   "execution_count": null,
   "metadata": {
    "dotnet_interactive": {
     "language": "pwsh"
    },
    "polyglot_notebook": {
     "kernelName": "pwsh"
    }
   },
   "outputs": [],
   "source": [
    "# switch version\n",
    "$num = 1\n",
    "\n",
    "switch ($num) {\n",
    "    1 { \n",
    "        \"one\"\n",
    "        break\n",
    "    }\n",
    "    2 { \"two\"; break }\n",
    "    3 { \"three\"; break }\n",
    "    1 { \"one again??\"; break }\n",
    "    default { \"other\" }\n",
    "}"
   ]
  },
  {
   "cell_type": "code",
   "execution_count": null,
   "metadata": {
    "dotnet_interactive": {
     "language": "pwsh"
    },
    "polyglot_notebook": {
     "kernelName": "pwsh"
    }
   },
   "outputs": [],
   "source": [
    "# loop through an array\n",
    "$array = 1, 2, 3, 4, 5\n",
    "for ($i = 0; $i -lt $array.Length; $i++) {\n",
    "    if ($array[$i] % 2 -eq 0) {\n",
    "        $array[$i]  \n",
    "    }\n",
    "}"
   ]
  },
  {
   "cell_type": "code",
   "execution_count": null,
   "metadata": {
    "dotnet_interactive": {
     "language": "pwsh"
    },
    "polyglot_notebook": {
     "kernelName": "pwsh"
    }
   },
   "outputs": [],
   "source": [
    "# switch version\n",
    "$array = 1, 2, 3, 4, 5\n",
    "\n",
    "switch ($array) {\n",
    "    {$_ % 2 -eq 0} { \"even: $_\" }\n",
    "    {$_ % 2 -ne 0} { \"odd: $_\" }\n",
    "    #default { \"odd: $_\" }\n",
    "}"
   ]
  },
  {
   "cell_type": "code",
   "execution_count": null,
   "metadata": {
    "dotnet_interactive": {
     "language": "pwsh"
    },
    "polyglot_notebook": {
     "kernelName": "pwsh"
    }
   },
   "outputs": [],
   "source": [
    "# switch version\n",
    "$array = 1, 2, 3, 4, 5\n",
    "\n",
    "$less = @()\n",
    "$more = @()\n",
    "switch ($array) {\n",
    "    {$_ -le 3} { $less += $_ }\n",
    "    {$_ -gt 3} { $more += $_ }\n",
    "}\n",
    "Write-Host \"less: \" $less\n",
    "Write-Host \"more: \" $more"
   ]
  },
  {
   "cell_type": "code",
   "execution_count": null,
   "metadata": {
    "dotnet_interactive": {
     "language": "pwsh"
    },
    "polyglot_notebook": {
     "kernelName": "pwsh"
    }
   },
   "outputs": [],
   "source": [
    "# switch with regular expressions\n",
    "$text = 123, \"apple\", \"...\"\n",
    "switch -regex ($text) {\n",
    "    \"[a-z]+\" { \"found a letter!\" }\n",
    "    \"[0-9]+\" { \"found a number!\" }\n",
    "    \".\" { \"found anything!\" }\n",
    "    \"\\.\" { \"found a period.\" }\n",
    "    default { \"didn't find anything\" }\n",
    "}"
   ]
  },
  {
   "cell_type": "code",
   "execution_count": null,
   "metadata": {
    "dotnet_interactive": {
     "language": "pwsh"
    },
    "polyglot_notebook": {
     "kernelName": "pwsh"
    }
   },
   "outputs": [],
   "source": [
    "switch -regex (\"the last lecture\") {\n",
    "    {$_.Contains(\"last\")} { \"this is the last one!\" }\n",
    "    {$_ -like \"*lect*\"} { \"is this a lecture?\" }\n",
    "    \"\\w+\" { \"there are words!\" }\n",
    "}"
   ]
  },
  {
   "cell_type": "code",
   "execution_count": null,
   "metadata": {
    "dotnet_interactive": {
     "language": "pwsh"
    },
    "polyglot_notebook": {
     "kernelName": "pwsh"
    }
   },
   "outputs": [],
   "source": [
    "# foreach statement (alternative)\n",
    "\n",
    "$array = 1, 2, 3, 4, 5\n",
    "\n",
    "foreach ($num in $array) {\n",
    "    Write-Host $num -NoNewline\n",
    "}\n",
    "Write-Host\n",
    "$array | % { Write-Host $_ -NoNewline }\n"
   ]
  },
  {
   "cell_type": "code",
   "execution_count": null,
   "metadata": {
    "dotnet_interactive": {
     "language": "pwsh"
    },
    "polyglot_notebook": {
     "kernelName": "pwsh"
    }
   },
   "outputs": [],
   "source": [
    "# if statement (alternative)\n",
    "\n",
    "$num = 1, 2, 3, 4, 5\n",
    "\n",
    "if ($num -eq 5) { \"if says it is 5\" }\n",
    "\n",
    "$num | ? { $_ -gt 3 -and $_ -lt 10 } | Out-Host"
   ]
  },
  {
   "cell_type": "code",
   "execution_count": null,
   "metadata": {
    "dotnet_interactive": {
     "language": "pwsh"
    },
    "polyglot_notebook": {
     "kernelName": "pwsh"
    }
   },
   "outputs": [],
   "source": [
    "# advanced functions\n",
    "\n",
    "function Write-Num {\n",
    "    [CmdletBinding()] # adds support for common parameters\n",
    "    param (\n",
    "        [Parameter(ValueFromPipeline)]\n",
    "        $Num,\n",
    "        $Colour\n",
    "    )\n",
    "\n",
    "    Write-Host $Num -ForegroundColor $Colour\n",
    "}\n",
    "5 | Write-Num -Colour \"red\""
   ]
  },
  {
   "cell_type": "code",
   "execution_count": null,
   "metadata": {
    "dotnet_interactive": {
     "language": "pwsh"
    },
    "polyglot_notebook": {
     "kernelName": "pwsh"
    }
   },
   "outputs": [],
   "source": [
    "# advanced functions\n",
    "\n",
    "function Write-Num {\n",
    "    [CmdletBinding()] # adds support for common parameters\n",
    "    param (\n",
    "        [Parameter(ValueFromPipeline)]\n",
    "        $Array\n",
    "    )\n",
    "\n",
    "    begin {\n",
    "        Write-Host \"beginning processing....\"    \n",
    "    }\n",
    "    process {\n",
    "        Write-Host $_\n",
    "    }\n",
    "    end {\n",
    "        Write-Host \"processing has ended....\"\n",
    "    }\n",
    "}\n",
    "1, 2, 3, 4, 5 | Write-Num"
   ]
  },
  {
   "cell_type": "code",
   "execution_count": null,
   "metadata": {
    "dotnet_interactive": {
     "language": "pwsh"
    },
    "polyglot_notebook": {
     "kernelName": "pwsh"
    }
   },
   "outputs": [],
   "source": [
    "# common parameters\n",
    "\n",
    "function Format-EntireHarddrive {\n",
    "    [CmdletBinding()]\n",
    "    param (\n",
    "        [Parameter(ValueFromPipeline)]\n",
    "        [string]$DriveLetter\n",
    "    )\n",
    "\n",
    "    if ($PSCmdlet.ShouldContinue(\"ARE YOU SURE??\", \"Format the *ENTIRE* harddrive?\")) {\n",
    "        $PSCmdlet.WriteWarning(\"OK! YOU'RE THE BOSS!\")\n",
    "        Write-Host \"Formatting: $DriveLetter\"\n",
    "    } else {\n",
    "        $PSCmdlet.WriteInformation(\"Yeah...that's probably the best choice...\", @())\n",
    "    }\n",
    "}\n",
    "\n",
    "Format-EntireHarddrive -DriveLetter C: -InformationAction:Continue"
   ]
  },
  {
   "cell_type": "code",
   "execution_count": null,
   "metadata": {
    "dotnet_interactive": {
     "language": "pwsh"
    },
    "polyglot_notebook": {
     "kernelName": "pwsh"
    }
   },
   "outputs": [],
   "source": []
  }
 ],
 "metadata": {
  "kernelspec": {
   "display_name": ".NET (C#)",
   "language": "C#",
   "name": ".net-csharp"
  },
  "polyglot_notebook": {
   "kernelInfo": {
    "defaultKernelName": "csharp",
    "items": [
     {
      "aliases": [
       "c#",
       "C#"
      ],
      "languageName": "C#",
      "name": "csharp"
     },
     {
      "aliases": [],
      "languageName": null,
      "name": ".NET"
     },
     {
      "aliases": [],
      "languageName": "SQL",
      "name": "sql"
     },
     {
      "aliases": [],
      "languageName": "Mermaid",
      "name": "mermaid"
     },
     {
      "aliases": [
       "frontend"
      ],
      "languageName": null,
      "name": "vscode"
     },
     {
      "aliases": [
       "js"
      ],
      "languageName": "JavaScript",
      "name": "javascript"
     },
     {
      "aliases": [],
      "name": "webview"
     },
     {
      "aliases": [],
      "languageName": "KQL",
      "name": "kql"
     },
     {
      "aliases": [
       "powershell"
      ],
      "languageName": "PowerShell",
      "name": "pwsh"
     }
    ]
   }
  }
 },
 "nbformat": 4,
 "nbformat_minor": 2
}
