{
 "cells": [
  {
   "cell_type": "code",
   "execution_count": 12,
   "metadata": {
    "vscode": {
     "languageId": "powershell"
    }
   },
   "outputs": [
    {
     "name": "stdout",
     "output_type": "stream",
     "text": [
      "john,jacob,jingle,hymer,schmitt\n",
      "john\n",
      "jacob\n",
      "jingle\n",
      "hymer\n",
      "schmitt\n"
     ]
    }
   ],
   "source": [
    "# without arrays\n",
    "$Username1 = \"john\"\n",
    "$Username2 = \"jacob\"\n",
    "$Username3 = \"jingle\"\n",
    "$Username4 = \"hymer\"\n",
    "$Username5 = \"schmitt\"\n",
    "\n",
    "Write-Host \"$Username1,$Username2,$Username3,$Username4,$Username5\"\n",
    "\n",
    "for ($i=0; $i -lt 5; $i++) {\n",
    "    Write-Host (IEX (\"`$Username\" + ($i + 1)))\n",
    "}"
   ]
  },
  {
   "cell_type": "code",
   "execution_count": 24,
   "metadata": {
    "vscode": {
     "languageId": "powershell"
    }
   },
   "outputs": [
    {
     "name": "stdout",
     "output_type": "stream",
     "text": [
      "john jacob jingle hymer schmitt\n"
     ]
    }
   ],
   "source": [
    "# with arrays\n",
    "$Usernames = \"john\", \"jacob\", \"jingle\", \"hymer\", \"schmitt\"\n",
    "Write-Host $Usernames"
   ]
  },
  {
   "cell_type": "code",
   "execution_count": 23,
   "metadata": {
    "vscode": {
     "languageId": "powershell"
    }
   },
   "outputs": [
    {
     "name": "stdout",
     "output_type": "stream",
     "text": [
      "Object[]\n"
     ]
    }
   ],
   "source": [
    "# to make an array of one element .... why?\n",
    "$OneElementArray = , \"harold\"\n",
    "$OneElementArray.GetType().Name"
   ]
  },
  {
   "cell_type": "code",
   "execution_count": 3,
   "metadata": {
    "vscode": {
     "languageId": "powershell"
    }
   },
   "outputs": [
    {
     "name": "stdout",
     "output_type": "stream",
     "text": [
      "john\n"
     ]
    }
   ],
   "source": [
    "# to access john's name\n",
    "Write-Host $Usernames[0]"
   ]
  },
  {
   "cell_type": "code",
   "execution_count": 14,
   "metadata": {
    "vscode": {
     "languageId": "powershell"
    }
   },
   "outputs": [
    {
     "name": "stdout",
     "output_type": "stream",
     "text": [
      "john\n",
      "jacob\n",
      "jingle\n",
      "hymer\n",
      "schmitt\n",
      "john,jacob,jingle,hymer,schmitt,\n",
      "john\n",
      "jacob\n",
      "jingle\n",
      "hymer\n",
      "schmitt\n"
     ]
    }
   ],
   "source": [
    "# to access all the names\n",
    "for ($i=0; $i -lt 5; $i++) {\n",
    "    Write-Host $Usernames[$i]\n",
    "}\n",
    "for ($i=0; $i -lt 5; $i++) {\n",
    "    Write-Host \"$($Usernames[$i]),\" -NoNewline\n",
    "}\n",
    "Write-Host\n",
    "foreach ($Username in $Usernames) {\n",
    "    Write-Host $Username\n",
    "}"
   ]
  },
  {
   "cell_type": "code",
   "execution_count": 25,
   "metadata": {
    "vscode": {
     "languageId": "powershell"
    }
   },
   "outputs": [
    {
     "name": "stdout",
     "output_type": "stream",
     "text": [
      "Object[]\n"
     ]
    }
   ],
   "source": [
    "# to add an element to the array\n",
    "$Usernames += \"francis\"\n",
    "$Usernames.GetType().Name"
   ]
  },
  {
   "cell_type": "code",
   "execution_count": 26,
   "metadata": {
    "vscode": {
     "languageId": "powershell"
    }
   },
   "outputs": [
    {
     "name": "stdout",
     "output_type": "stream",
     "text": [
      "Object[]\n",
      "harold\n",
      "john\n",
      "jacob\n",
      "jingle\n",
      "hymer\n",
      "schmitt\n",
      "francis\n"
     ]
    }
   ],
   "source": [
    "# to add items to the beginning of the array\n",
    "$Usernames = , \"harold\" + $Usernames\n",
    "$Usernames.GetType().Name\n",
    "$Usernames"
   ]
  },
  {
   "cell_type": "code",
   "execution_count": 36,
   "metadata": {
    "vscode": {
     "languageId": "powershell"
    }
   },
   "outputs": [
    {
     "name": "stdout",
     "output_type": "stream",
     "text": [
      "Int32[]\n",
      "90\n"
     ]
    }
   ],
   "source": [
    "# how about numbers?\n",
    "$Numbers = 1, 2, 3, 4, 5\n",
    "$Numbers = 1..5\n",
    "[int[]]$Numbers = $Numbers + 1..5 + 10..15\n",
    "$Numbers.GetType().Name\n",
    "\n",
    "$Sum = 0\n",
    "for ($i=0; $i -lt 14; $i++) {\n",
    "    $Sum += $Numbers[$i]\n",
    "}\n",
    "$Sum\n",
    "\n",
    "<#\n",
    "$Sum += $Numbers[0]\n",
    "$Sum += $Numbers[1]\n",
    "$Sum += $Numbers[2]\n",
    "$Sum += $Numbers[3]\n",
    "...\n",
    "#>"
   ]
  },
  {
   "cell_type": "code",
   "execution_count": 42,
   "metadata": {
    "vscode": {
     "languageId": "powershell"
    }
   },
   "outputs": [
    {
     "name": "stdout",
     "output_type": "stream",
     "text": [
      "True\n"
     ]
    }
   ],
   "source": [
    "# accessing elements that don't exist\n",
    "$Things = \"apples\", \"bananas\", \"canteloupe\"\n",
    "$Things[3] -eq $null"
   ]
  },
  {
   "cell_type": "code",
   "execution_count": 48,
   "metadata": {
    "vscode": {
     "languageId": "powershell"
    }
   },
   "outputs": [
    {
     "name": "stdout",
     "output_type": "stream",
     "text": [
      "\"\"\n"
     ]
    }
   ],
   "source": [
    "# what is $null??\n",
    "\"`\"$([string]$null)`\"\""
   ]
  },
  {
   "cell_type": "code",
   "execution_count": 49,
   "metadata": {
    "vscode": {
     "languageId": "powershell"
    }
   },
   "outputs": [
    {
     "name": "stdout",
     "output_type": "stream",
     "text": [
      "10\n"
     ]
    }
   ],
   "source": [
    "# to get the length of an array\n",
    "$Numbers = 1..10\n",
    "$Numbers.Length"
   ]
  },
  {
   "cell_type": "code",
   "execution_count": 50,
   "metadata": {
    "vscode": {
     "languageId": "powershell"
    }
   },
   "outputs": [
    {
     "name": "stdout",
     "output_type": "stream",
     "text": [
      "1 2 3 4 5\n",
      "0 2 3 4 5\n"
     ]
    }
   ],
   "source": [
    "# to change elements in an array\n",
    "$Numbers = 1..5\n",
    "Write-Host $Numbers\n",
    "$Numbers[0] = 0\n",
    "Write-Host $Numbers"
   ]
  },
  {
   "cell_type": "code",
   "execution_count": 55,
   "metadata": {
    "vscode": {
     "languageId": "powershell"
    }
   },
   "outputs": [
    {
     "name": "stdout",
     "output_type": "stream",
     "text": [
      "Name: bob\n"
     ]
    }
   ],
   "source": [
    "$Names = \"bob\", \"john\", \"bill\"\n",
    "Write-Host \"Name: $($Names[0])\"\n"
   ]
  },
  {
   "cell_type": "code",
   "execution_count": null,
   "metadata": {
    "vscode": {
     "languageId": "powershell"
    }
   },
   "outputs": [],
   "source": []
  }
 ],
 "metadata": {
  "kernelspec": {
   "display_name": ".NET (PowerShell)",
   "language": "PowerShell",
   "name": ".net-powershell"
  },
  "language_info": {
   "file_extension": ".ps1",
   "mimetype": "text/x-powershell",
   "name": "PowerShell",
   "pygments_lexer": "powershell",
   "version": "7.0"
  },
  "orig_nbformat": 4
 },
 "nbformat": 4,
 "nbformat_minor": 2
}
