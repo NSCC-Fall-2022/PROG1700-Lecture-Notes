{
 "cells": [
  {
   "cell_type": "code",
   "execution_count": 12,
   "metadata": {
    "vscode": {
     "languageId": "powershell"
    }
   },
   "outputs": [
    {
     "name": "stdout",
     "output_type": "stream",
     "text": [
      "john,jacob,jingle,hymer,schmitt\n",
      "john\n",
      "jacob\n",
      "jingle\n",
      "hymer\n",
      "schmitt\n"
     ]
    }
   ],
   "source": [
    "# without arrays\n",
    "$Username1 = \"john\"\n",
    "$Username2 = \"jacob\"\n",
    "$Username3 = \"jingle\"\n",
    "$Username4 = \"hymer\"\n",
    "$Username5 = \"schmitt\"\n",
    "\n",
    "Write-Host \"$Username1,$Username2,$Username3,$Username4,$Username5\"\n",
    "\n",
    "for ($i=0; $i -lt 5; $i++) {\n",
    "    Write-Host (IEX (\"`$Username\" + ($i + 1)))\n",
    "}"
   ]
  },
  {
   "cell_type": "code",
   "execution_count": 24,
   "metadata": {
    "vscode": {
     "languageId": "powershell"
    }
   },
   "outputs": [
    {
     "name": "stdout",
     "output_type": "stream",
     "text": [
      "john jacob jingle hymer schmitt\n"
     ]
    }
   ],
   "source": [
    "# with arrays\n",
    "$Usernames = \"john\", \"jacob\", \"jingle\", \"hymer\", \"schmitt\"\n",
    "Write-Host $Usernames"
   ]
  },
  {
   "cell_type": "code",
   "execution_count": 23,
   "metadata": {
    "vscode": {
     "languageId": "powershell"
    }
   },
   "outputs": [
    {
     "name": "stdout",
     "output_type": "stream",
     "text": [
      "Object[]\n"
     ]
    }
   ],
   "source": [
    "# to make an array of one element .... why?\n",
    "$OneElementArray = , \"harold\"\n",
    "$OneElementArray.GetType().Name"
   ]
  },
  {
   "cell_type": "code",
   "execution_count": 3,
   "metadata": {
    "vscode": {
     "languageId": "powershell"
    }
   },
   "outputs": [
    {
     "name": "stdout",
     "output_type": "stream",
     "text": [
      "john\n"
     ]
    }
   ],
   "source": [
    "# to access john's name\n",
    "Write-Host $Usernames[0]"
   ]
  },
  {
   "cell_type": "code",
   "execution_count": 14,
   "metadata": {
    "vscode": {
     "languageId": "powershell"
    }
   },
   "outputs": [
    {
     "name": "stdout",
     "output_type": "stream",
     "text": [
      "john\n",
      "jacob\n",
      "jingle\n",
      "hymer\n",
      "schmitt\n",
      "john,jacob,jingle,hymer,schmitt,\n",
      "john\n",
      "jacob\n",
      "jingle\n",
      "hymer\n",
      "schmitt\n"
     ]
    }
   ],
   "source": [
    "# to access all the names\n",
    "for ($i=0; $i -lt 5; $i++) {\n",
    "    Write-Host $Usernames[$i]\n",
    "}\n",
    "for ($i=0; $i -lt 5; $i++) {\n",
    "    Write-Host \"$($Usernames[$i]),\" -NoNewline\n",
    "}\n",
    "Write-Host\n",
    "foreach ($Username in $Usernames) {\n",
    "    Write-Host $Username\n",
    "}"
   ]
  },
  {
   "cell_type": "code",
   "execution_count": 25,
   "metadata": {
    "vscode": {
     "languageId": "powershell"
    }
   },
   "outputs": [
    {
     "name": "stdout",
     "output_type": "stream",
     "text": [
      "Object[]\n"
     ]
    }
   ],
   "source": [
    "# to add an element to the array\n",
    "$Usernames += \"francis\"\n",
    "$Usernames.GetType().Name"
   ]
  },
  {
   "cell_type": "code",
   "execution_count": 26,
   "metadata": {
    "vscode": {
     "languageId": "powershell"
    }
   },
   "outputs": [
    {
     "name": "stdout",
     "output_type": "stream",
     "text": [
      "Object[]\n",
      "harold\n",
      "john\n",
      "jacob\n",
      "jingle\n",
      "hymer\n",
      "schmitt\n",
      "francis\n"
     ]
    }
   ],
   "source": [
    "# to add items to the beginning of the array\n",
    "$Usernames = , \"harold\" + $Usernames\n",
    "$Usernames.GetType().Name\n",
    "$Usernames"
   ]
  },
  {
   "cell_type": "code",
   "execution_count": 36,
   "metadata": {
    "vscode": {
     "languageId": "powershell"
    }
   },
   "outputs": [
    {
     "name": "stdout",
     "output_type": "stream",
     "text": [
      "Int32[]\n",
      "90\n"
     ]
    }
   ],
   "source": [
    "# how about numbers?\n",
    "$Numbers = 1, 2, 3, 4, 5\n",
    "$Numbers = 1..5\n",
    "[int[]]$Numbers = $Numbers + 1..5 + 10..15\n",
    "$Numbers.GetType().Name\n",
    "\n",
    "$Sum = 0\n",
    "for ($i=0; $i -lt 14; $i++) {\n",
    "    $Sum += $Numbers[$i]\n",
    "}\n",
    "$Sum\n",
    "\n",
    "<#\n",
    "$Sum += $Numbers[0]\n",
    "$Sum += $Numbers[1]\n",
    "$Sum += $Numbers[2]\n",
    "$Sum += $Numbers[3]\n",
    "...\n",
    "#>"
   ]
  },
  {
   "cell_type": "code",
   "execution_count": 42,
   "metadata": {
    "vscode": {
     "languageId": "powershell"
    }
   },
   "outputs": [
    {
     "name": "stdout",
     "output_type": "stream",
     "text": [
      "True\n"
     ]
    }
   ],
   "source": [
    "# accessing elements that don't exist\n",
    "$Things = \"apples\", \"bananas\", \"canteloupe\"\n",
    "$Things[3] -eq $null"
   ]
  },
  {
   "cell_type": "code",
   "execution_count": 48,
   "metadata": {
    "vscode": {
     "languageId": "powershell"
    }
   },
   "outputs": [
    {
     "name": "stdout",
     "output_type": "stream",
     "text": [
      "\"\"\n"
     ]
    }
   ],
   "source": [
    "# what is $null??\n",
    "\"`\"$([string]$null)`\"\""
   ]
  },
  {
   "cell_type": "code",
   "execution_count": 49,
   "metadata": {
    "vscode": {
     "languageId": "powershell"
    }
   },
   "outputs": [
    {
     "name": "stdout",
     "output_type": "stream",
     "text": [
      "10\n"
     ]
    }
   ],
   "source": [
    "# to get the length of an array\n",
    "$Numbers = 1..10\n",
    "$Numbers.Length"
   ]
  },
  {
   "cell_type": "code",
   "execution_count": 50,
   "metadata": {
    "vscode": {
     "languageId": "powershell"
    }
   },
   "outputs": [
    {
     "name": "stdout",
     "output_type": "stream",
     "text": [
      "1 2 3 4 5\n",
      "0 2 3 4 5\n"
     ]
    }
   ],
   "source": [
    "# to change elements in an array\n",
    "$Numbers = 1..5\n",
    "Write-Host $Numbers\n",
    "$Numbers[0] = 0\n",
    "Write-Host $Numbers"
   ]
  },
  {
   "cell_type": "code",
   "execution_count": 55,
   "metadata": {
    "vscode": {
     "languageId": "powershell"
    }
   },
   "outputs": [
    {
     "name": "stdout",
     "output_type": "stream",
     "text": [
      "Name: bob\n"
     ]
    }
   ],
   "source": [
    "$Names = \"bob\", \"john\", \"bill\"\n",
    "Write-Host \"Name: $($Names[0])\"\n"
   ]
  },
  {
   "cell_type": "code",
   "execution_count": 12,
   "metadata": {
    "vscode": {
     "languageId": "powershell"
    }
   },
   "outputs": [
    {
     "name": "stdout",
     "output_type": "stream",
     "text": [
      "chocolate gummies chips licorice\n",
      "chocolategummieschipslicorice\n",
      "chocolategummieschipslicorice\n",
      "chocolate gummies chips licorice peppermints\n",
      "caramels chocolate gummies chips licorice peppermints\n",
      "caramels chocolate gummies chips red licorice peppermints\n"
     ]
    }
   ],
   "source": [
    "# halloween array\n",
    "$Candies = @(\"chocolate\",\"gummies\",\"chips\",\"licorice\")\n",
    "Write-Host $Candies\n",
    "for ($i=0; $i -lt $Candies.Length; $i++) {\n",
    "    Write-Host $Candies[$i] -NoNewline\n",
    "}\n",
    "Write-Host\n",
    "foreach ($Candy in $Candies) {\n",
    "    Write-Host $Candy -NoNewLine\n",
    "}\n",
    "Write-Host\n",
    "$Candies += \"peppermints\"\n",
    "Write-Host $Candies\n",
    "$Candies = ,\"caramels\" + $Candies\n",
    "Write-Host $Candies\n",
    "$Candies[4] = \"red licorice\"\n",
    "Write-Host $Candies"
   ]
  },
  {
   "cell_type": "code",
   "execution_count": 17,
   "metadata": {
    "vscode": {
     "languageId": "powershell"
    }
   },
   "outputs": [
    {
     "name": "stdout",
     "output_type": "stream",
     "text": [
      "24\n",
      "5 6 7 9 10\n"
     ]
    }
   ],
   "source": [
    "$HourlyWeeners = 12, 24, 6, 3, 1\n",
    "Write-Host $HourlyWeeners[1]\n",
    "$Hours = 5..7 + 9..10\n",
    "Write-Host $Hours"
   ]
  },
  {
   "cell_type": "code",
   "execution_count": 37,
   "metadata": {
    "vscode": {
     "languageId": "powershell"
    }
   },
   "outputs": [
    {
     "name": "stdout",
     "output_type": "stream",
     "text": [
      "Batman Fairy Spiderman Elsa LeatherFace Hulk High School Students Too Old Minion Hockey Player Ghost Zombie\n",
      "Batman Spiderman Hulk\n",
      "Batman Spiderman Hulk\n",
      "Ghost Zombie\n",
      "Ghost Zombie Batman LeatherFace\n"
     ]
    }
   ],
   "source": [
    "$Costumes = \"Batman\", \"Fairy\", \"Spiderman\", \n",
    "            \"Elsa\", \"LeatherFace\", \"Hulk\",\n",
    "            \"High School Students\", \"Too Old\", \"Minion\",\n",
    "            \"Hockey Player\", \"Ghost\", \"Zombie\"\n",
    "Write-Host $Costumes\n",
    "$SuperHeroes = ,$Costumes[0] + $Costumes[2] + $Costumes[5]\n",
    "Write-Host $SuperHeroes\n",
    "$SuperHeroes = $Costumes[0,2,5]\n",
    "Write-Host $SuperHeroes\n",
    "$Dead = $Costumes[-1,-2]\n",
    "$Dead = $Costumes[-2..-1]\n",
    "Write-Host $Dead\n",
    "$CreaturesOfTheNight = $Costumes[-2..0+4]\n",
    "Write-Host $CreaturesOfTheNight"
   ]
  },
  {
   "cell_type": "code",
   "execution_count": 41,
   "metadata": {
    "vscode": {
     "languageId": "powershell"
    }
   },
   "outputs": [
    {
     "name": "stdout",
     "output_type": "stream",
     "text": [
      "Batman Fairy Spiderman Elsa LeatherFace Hulk Too Old Minion Hockey Player Ghost Zombie\n"
     ]
    }
   ],
   "source": [
    "# remove an element from the array\n",
    "$Costumes = $Costumes[0..5+-5..-1]\n",
    "Write-Host $Costumes"
   ]
  },
  {
   "cell_type": "code",
   "execution_count": 42,
   "metadata": {
    "vscode": {
     "languageId": "powershell"
    }
   },
   "outputs": [
    {
     "name": "stdout",
     "output_type": "stream",
     "text": [
      "Batman Fairy Spiderman Elsa LeatherFace Hulk Too Old Minion Hockey Player Ghost\n"
     ]
    }
   ],
   "source": [
    "# remove the element from the end of the array\n",
    "$Costumes = $Costumes[0..($Costumes.Length-2)]\n",
    "Write-Host $Costumes"
   ]
  },
  {
   "cell_type": "code",
   "execution_count": 43,
   "metadata": {
    "vscode": {
     "languageId": "powershell"
    }
   },
   "outputs": [
    {
     "name": "stdout",
     "output_type": "stream",
     "text": [
      "Fairy Spiderman Elsa LeatherFace Hulk Too Old Minion Hockey Player Ghost\n"
     ]
    }
   ],
   "source": [
    "# remove one from the start of the array\n",
    "$Costumes = $Costumes[1..$Costumes.Length]\n",
    "Write-Host $Costumes"
   ]
  },
  {
   "cell_type": "code",
   "execution_count": 53,
   "metadata": {
    "vscode": {
     "languageId": "powershell"
    }
   },
   "outputs": [
    {
     "name": "stdout",
     "output_type": "stream",
     "text": [
      "5\n",
      "1\n",
      "600\n"
     ]
    }
   ],
   "source": [
    "# 1-D Array\n",
    "$OneDimension = 1, 2, 3, 4, 5\n",
    "Write-Host $OneDimension[4]\n",
    "\n",
    "# 2-D Array\n",
    "$Row1 = 7, 8, 9\n",
    "$Row2 = 4, 5, 6\n",
    "$Row3 = 1, 2, 3\n",
    "$TwoDimensions = $Row1, $Row2, $Row3 \n",
    "Write-Host $TwoDimensions[2][0]\n",
    "\n",
    "# 3-D Array\n",
    "$Row1A = 70, 80, 90\n",
    "$Row2A = 40, 50, 60\n",
    "$Row3A = 10, 20, 30\n",
    "$TwoDimensionsA = $Row1A, $Row2A, $Row3A\n",
    "\n",
    "$Row1B = 700, 800, 900\n",
    "$Row2B = 400, 500, 600\n",
    "$Row3B = 100, 200, 300\n",
    "$TwoDimensionsB = $Row1B, $Row2B, $Row3B\n",
    "\n",
    "$Row1C = 7000, 8000, 9000\n",
    "$Row2C = 4000, 5000, 6000\n",
    "$Row3C = 1000, 2000, 3000\n",
    "$TwoDimensionsC = $Row1C, $Row2C, $Row3C\n",
    "\n",
    "$ThreeDimensions = $TwoDimensionsA, $TwoDimensionsB, $TwoDimensionsC\n",
    "Write-Host $ThreeDimensions[1][1][2]\n"
   ]
  },
  {
   "cell_type": "code",
   "execution_count": 63,
   "metadata": {
    "vscode": {
     "languageId": "powershell"
    }
   },
   "outputs": [
    {
     "name": "stdout",
     "output_type": "stream",
     "text": [
      "scary happy dopey bat afraid\n",
      "afraid bat dopey happy scary\n",
      "afraid bat dopey happy scary\n",
      "afraid bat dopey happy scary\n"
     ]
    }
   ],
   "source": [
    "# miscellaneous\n",
    "\n",
    "# array destructuring!\n",
    "$Pumpkins = \"scary\", \"happy\", \"dopey\", \"bat\", \"afraid\"\n",
    "$Scary = $Pumpkins[0]\n",
    "$Happy = $Pumpkins[1]\n",
    "$Dopey = $Pumpkins[2]\n",
    "$Bat = $Pumpkins[3]\n",
    "$Afraid = $Pumpkins[4]\n",
    "$Scary, $Happy, $Dopey, $Bat, $Afraid = $Pumpkins\n",
    "\n",
    "Write-Host $Scary, $Happy, $Dopey, $Bat, $Afraid\n",
    "\n",
    "# reverse array\n",
    "$Pumpkins = $Afraid, $Bat, $Dopey, $Happy, $Scary\n",
    "$Pumpkins = $Pumpkins[-1..-($Pumpkins.Length)]\n",
    "[Array]::Reverse($Pumpkins)\n",
    "Write-Host $Pumpkins\n",
    "\n",
    "# sorting array\n",
    "[Array]::Sort($Pumpkins)\n",
    "Write-Host $Pumpkins\n",
    "$NewPumpkins = $Pumpkins | sort\n",
    "Write-Host $NewPumpkins\n"
   ]
  },
  {
   "cell_type": "code",
   "execution_count": 67,
   "metadata": {
    "vscode": {
     "languageId": "powershell"
    }
   },
   "outputs": [
    {
     "name": "stdout",
     "output_type": "stream",
     "text": [
      "\n",
      "    Directory: C:\\Users\\nscc\\Documents\\Notebooks\n",
      "\n",
      "\u001b[32;1mMode                 LastWriteTime         Length Name\u001b[0m\n",
      "\u001b[32;1m----                 -------------         ------ ----\u001b[0m\n",
      "-a---          10/14/2022  3:26 PM             18 .gitignore\n",
      "-a---          10/28/2022  3:33 PM           7017 Arrays.ipynb\n",
      "-a---          10/19/2022  2:44 PM          24975 Decisions_and_Loops.ipynb\n",
      "-a---           10/5/2022  2:02 PM            114 hello.ps1\n",
      "-a---          10/14/2022  1:31 PM          24794 Input_Output_and_Variables.ipynb\n",
      "-a---           9/21/2022  2:34 PM           6427 Intro to PowerShell.ipynb\n",
      "-a---           10/3/2022 10:13 AM           1296 test.ps1\n",
      "\u001b[91mMethodInvocationException: \n",
      "\u001b[96mLine |\n",
      "\u001b[96m   3 | \u001b[0m \u001b[96m$Folders = [Array]::Sort($Folders)\u001b[0m\n",
      "\u001b[96m     | \u001b[91m ~~~~~~~~~~~~~~~~~~~~~~~~~~~~~~~~~~\n",
      "\u001b[91m\u001b[96m     | \u001b[91mException calling \"Sort\" with \"1\" argument(s): \"Failed to compare two elements in the array.\"\u001b[0m\n",
      "C:\\Users\\nscc\\Documents\\Notebooks\\.gitignore C:\\Users\\nscc\\Documents\\Notebooks\\Arrays.ipynb C:\\Users\\nscc\\Documents\\Notebooks\\Decisions_and_Loops.ipynb C:\\Users\\nscc\\Documents\\Notebooks\\hello.ps1 C:\\Users\\nscc\\Documents\\Notebooks\\Input_Output_and_Variables.ipynb C:\\Users\\nscc\\Documents\\Notebooks\\Intro to PowerShell.ipynb C:\\Users\\nscc\\Documents\\Notebooks\\test.ps1\n",
      "\n"
     ]
    }
   ],
   "source": [
    "Get-ChildItem | Sort-Object\n",
    "$Folders = Get-ChildItem\n",
    "$Folders = [Array]::Sort($Folders)\n",
    "Write-Host $Folders"
   ]
  },
  {
   "cell_type": "code",
   "execution_count": 71,
   "metadata": {
    "vscode": {
     "languageId": "powershell"
    }
   },
   "outputs": [
    {
     "name": "stdout",
     "output_type": "stream",
     "text": [
      ".gitignore\n",
      "Arrays.ipynb\n",
      "Decisions_and_Loops.ipynb\n",
      "hello.ps1\n",
      "Input_Output_and_Variables.ipynb\n",
      "Intro to PowerShell.ipynb\n",
      "test.ps1\n",
      ".gitignore Arrays.ipynb Decisions_and_Loops.ipynb hello.ps1 Input_Output_and_Variables.ipynb Intro to PowerShell.ipynb test.ps1\n"
     ]
    }
   ],
   "source": [
    "Get-ChildItem -Name | Sort-Object\n",
    "$Folders = Get-ChildItem -Name\n",
    "[Array]::Sort($Folders)\n",
    "Write-Host $Folders"
   ]
  },
  {
   "cell_type": "code",
   "execution_count": 75,
   "metadata": {
    "vscode": {
     "languageId": "powershell"
    }
   },
   "outputs": [
    {
     "name": "stdout",
     "output_type": "stream",
     "text": [
      "True\n",
      "True\n",
      "True\n",
      "True\n"
     ]
    }
   ],
   "source": [
    "# decisions\n",
    "$Pumpkins = \"scary\", \"happy\", \"dopey\", \"bat\", \"afraid\"\n",
    "\n",
    "$Pumpkins -contains \"bat\"\n",
    "$Pumpkins -notcontains \"apple\"\n",
    "\n",
    "\"bat\" -in $Pumpkins\n",
    "\"apple\" -notin $Pumpkins"
   ]
  },
  {
   "cell_type": "code",
   "execution_count": 77,
   "metadata": {
    "vscode": {
     "languageId": "powershell"
    }
   },
   "outputs": [
    {
     "name": "stdout",
     "output_type": "stream",
     "text": [
      "scary\n",
      "happy\n",
      "dopey\n",
      "bat\n",
      "afraid\n"
     ]
    }
   ],
   "source": [
    "# reverse sort\n",
    "$Pumpkins = \"scary\", \"happy\", \"dopey\", \"bat\", \"afraid\"\n",
    "\n",
    "[Array]::Sort($Pumpkins)\n",
    "[Array]::Reverse($Pumpkins)\n",
    "$Pumpkins"
   ]
  },
  {
   "cell_type": "code",
   "execution_count": 3,
   "metadata": {
    "vscode": {
     "languageId": "powershell"
    }
   },
   "outputs": [
    {
     "name": "stdout",
     "output_type": "stream",
     "text": [
      "X|O| \n",
      " |X|O\n",
      "O| |X\n"
     ]
    }
   ],
   "source": [
    "# create a tic tac toe board using an array\n",
    "# add three Xs from top-left to bottom-right of board\n",
    "\n",
    "$TicTacToe = @(\n",
    "    @(' ','O',' '),\n",
    "    @(' ',' ','O'),\n",
    "    @('O',' ',' ')\n",
    ")\n",
    "# add Xs\n",
    "$TicTacToe[0][0] = 'X'\n",
    "$TicTacToe[1][1] = 'X'\n",
    "$TicTacToe[2][2] = 'X'\n",
    "\n",
    "# print it out!\n",
    "foreach ($Row in $TicTacToe) {\n",
    "    for ($Col=0; $Col -lt $Row.Length; $Col++) {\n",
    "        Write-Host \"$($Row[$Col])\" -NoNewline\n",
    "        if ($Col -lt ($Row.Length - 1)) {\n",
    "            Write-Host \"|\" -NoNewline\n",
    "        }\n",
    "    }\n",
    "    Write-Host\n",
    "}"
   ]
  },
  {
   "cell_type": "code",
   "execution_count": 9,
   "metadata": {
    "vscode": {
     "languageId": "powershell"
    }
   },
   "outputs": [
    {
     "name": "stdout",
     "output_type": "stream",
     "text": [
      "-1 2 3 4 5 6\n",
      "G\n",
      "Goodbye\n"
     ]
    }
   ],
   "source": [
    "# strings and arrays\n",
    "\n",
    "$MyArray = 1, 2, 3, 4, 5\n",
    "$MyArray[0] = -1    # modifying the original array\n",
    "$MyArray += 6       # create new array from old array and 6\n",
    "Write-Host $MyArray\n",
    "\n",
    "$MyString = \"Hello World\"\n",
    "$MyString = \"Goodbye\"   # creates a new string\n",
    "$MyString[0]\n",
    "# doesn't work since strings are 'immutable'\n",
    "#$MyString[0] = \"L\"      # change first letter in string?\n",
    "Write-Host $MyString"
   ]
  },
  {
   "cell_type": "code",
   "execution_count": 25,
   "metadata": {
    "vscode": {
     "languageId": "powershell"
    }
   },
   "outputs": [
    {
     "name": "stdout",
     "output_type": "stream",
     "text": [
      "apple\n",
      "APPLE\n",
      "Q\n",
      "p\n",
      "p\n",
      "l\n",
      "e\n",
      "Q p p l e\n",
      "Qpple\n",
      "Q,p,p,l,e\n",
      "Q:p:p:l:e\n",
      "Qpple\n"
     ]
    }
   ],
   "source": [
    "# string functions\n",
    "$LowerCaseString = \"apple\"\n",
    "$UpperCaseString = $LowerCaseString.ToUpper()\n",
    "$LowerCaseString\n",
    "$UpperCaseString\n",
    "\n",
    "# converting from string to array\n",
    "$StringArray = $LowerCaseString.ToCharArray()\n",
    "$StringArray[0] = \"Q\"\n",
    "$StringArray\n",
    "\n",
    "# converting from array to string\n",
    "[string]$StringArray # adds extra spaces\n",
    "$StringArray -join ''\n",
    "$StringArray -join ','\n",
    "[String]::Join(':',$StringArray)\n",
    "-join $StringArray"
   ]
  },
  {
   "cell_type": "code",
   "execution_count": 12,
   "metadata": {
    "vscode": {
     "languageId": "powershell"
    }
   },
   "outputs": [
    {
     "name": "stdout",
     "output_type": "stream",
     "text": [
      "123\n"
     ]
    }
   ],
   "source": [
    "# number functions\n",
    "$Number = 123\n",
    "$Number.ToString()"
   ]
  },
  {
   "cell_type": "code",
   "execution_count": 15,
   "metadata": {
    "vscode": {
     "languageId": "powershell"
    }
   },
   "outputs": [
    {
     "name": "stdout",
     "output_type": "stream",
     "text": [
      "\u001b[91mMethodInvocationException: \n",
      "\u001b[96mLine |\n",
      "\u001b[96m   3 | \u001b[0m \u001b[96m$Array.Add(1)\u001b[0m\n",
      "\u001b[96m     | \u001b[91m ~~~~~~~~~~~~~\n",
      "\u001b[91m\u001b[96m     | \u001b[91mException calling \"Add\" with \"1\" argument(s): \"Collection was of a fixed size.\"\u001b[0m\n",
      "1\n",
      "2\n",
      "3\n",
      "4\n",
      "5\n"
     ]
    }
   ],
   "source": [
    "# array functions\n",
    "$Array = 1, 2, 3, 4, 5\n",
    "$Array"
   ]
  },
  {
   "cell_type": "code",
   "execution_count": 27,
   "metadata": {
    "vscode": {
     "languageId": "powershell"
    }
   },
   "outputs": [
    {
     "name": "stdout",
     "output_type": "stream",
     "text": [
      "orange\n",
      "apple\n",
      "banana\n"
     ]
    }
   ],
   "source": [
    "# more string to array conversions\n",
    "$AnotherString = \"orange,apple,banana\"\n",
    "$NewArray = $AnotherString.ToCharArray()\n",
    "$AnotherString -split ','"
   ]
  },
  {
   "cell_type": "code",
   "execution_count": 29,
   "metadata": {
    "vscode": {
     "languageId": "powershell"
    }
   },
   "outputs": [
    {
     "name": "stdout",
     "output_type": "stream",
     "text": [
      "1\n",
      "1\n",
      "1\n"
     ]
    }
   ],
   "source": [
    "# dictionaries\n",
    "$MyArray = @(1, 2, 3, 4, 5)\n",
    "$MyArray[0]\n",
    "$MyDictionary = @{ apple = 1; fred = 2; icecream = 3 }\n",
    "$MyDictionary['apple'] # most known version\n",
    "$MyDictionary.apple"
   ]
  },
  {
   "cell_type": "code",
   "execution_count": 42,
   "metadata": {
    "vscode": {
     "languageId": "powershell"
    }
   },
   "outputs": [
    {
     "name": "stdout",
     "output_type": "stream",
     "text": [
      "\n",
      "\u001b[32;1mName                           Value\u001b[0m\n",
      "\u001b[32;1m----                           -----\u001b[0m\n",
      "apple                          1\n",
      "banana                         2\n",
      "orange                         3\n",
      "cumquat                        4\n",
      "grapefruit                     5\n",
      "\n"
     ]
    }
   ],
   "source": [
    "# adding to a dictionary\n",
    "$Fruit = @{apple=1;orange=3;banana=2;}\n",
    "$Fruit['cumquat'] = 4\n",
    "$Fruit.grapefruit = 5\n",
    "$Fruit"
   ]
  },
  {
   "cell_type": "code",
   "execution_count": 32,
   "metadata": {
    "vscode": {
     "languageId": "powershell"
    }
   },
   "outputs": [
    {
     "name": "stdout",
     "output_type": "stream",
     "text": [
      "\n",
      "\u001b[32;1mName                           Value\u001b[0m\n",
      "\u001b[32;1m----                           -----\u001b[0m\n",
      "apple                          1\n",
      "banana                         2\n",
      "orange                         3\n",
      "grapefruit                     5\n",
      "\n"
     ]
    }
   ],
   "source": [
    "# removing items from dictionaries\n",
    "$Fruit.Remove('cumquat')\n",
    "$Fruit"
   ]
  },
  {
   "cell_type": "code",
   "execution_count": 47,
   "metadata": {
    "vscode": {
     "languageId": "powershell"
    }
   },
   "outputs": [
    {
     "name": "stdout",
     "output_type": "stream",
     "text": [
      "orange\n",
      "grapefruit\n",
      "cumquat\n",
      "banana\n",
      "apple\n",
      "orange : 3\n",
      "grapefruit : 5\n",
      "cumquat : 4\n",
      "banana : 2\n",
      "apple : 1\n"
     ]
    }
   ],
   "source": [
    "# 'sorting' a dictionary\n",
    "$FruitNames = $Fruit.Keys\n",
    "$FruitNames = $FruitNames | Sort-Object -Descending\n",
    "$FruitNames\n",
    "\n",
    "foreach ($Name in $FruitNames) {\n",
    "    Write-Host \"$Name : $($Fruit[$Name])\"\n",
    "}"
   ]
  },
  {
   "cell_type": "code",
   "execution_count": 48,
   "metadata": {
    "vscode": {
     "languageId": "powershell"
    }
   },
   "outputs": [
    {
     "name": "stdout",
     "output_type": "stream",
     "text": [
      "1\n",
      "2\n",
      "3\n",
      "4\n",
      "5\n"
     ]
    }
   ],
   "source": [
    "# iterate over the dictionary\n",
    "foreach ($K in $Fruit.Keys) {\n",
    "    Write-Host $Fruit[$K]\n",
    "}"
   ]
  },
  {
   "cell_type": "code",
   "execution_count": 49,
   "metadata": {
    "vscode": {
     "languageId": "powershell"
    }
   },
   "outputs": [
    {
     "name": "stdout",
     "output_type": "stream",
     "text": [
      "Name: bob\n",
      "Name: ann\n",
      "Name: tim\n"
     ]
    }
   ],
   "source": [
    "# example use\n",
    "$Users = @(\n",
    "    @{username='bob';password='password'},\n",
    "    @{username='ann';password='passw0rd'},\n",
    "    @{username='tim';password='p@ssword123'}\n",
    ")\n",
    "\n",
    "# print users names\n",
    "foreach ($User in $Users) {\n",
    "    Write-Host \"Name: $($User.username)\"\n",
    "}"
   ]
  },
  {
   "cell_type": "code",
   "execution_count": 52,
   "metadata": {
    "vscode": {
     "languageId": "powershell"
    }
   },
   "outputs": [
    {
     "name": "stdout",
     "output_type": "stream",
     "text": [
      ".gitignore -a--- 18\n",
      "Arrays.ipynb -a--- 18625\n",
      "Decisions_and_Loops.ipynb -a--- 24975\n",
      "hello.ps1 -a--- 114\n",
      "Input_Output_and_Variables.ipynb -a--- 24794\n",
      "Intro to PowerShell.ipynb -a--- 6427\n",
      "test.ps1 -a--- 1296\n"
     ]
    }
   ],
   "source": [
    "# another example\n",
    "$Items = Get-ChildItem\n",
    "foreach ($Item in $Items) {\n",
    "    Write-Host $Item.Name, $Item.Mode, $Item.Length\n",
    "}"
   ]
  },
  {
   "cell_type": "code",
   "execution_count": 4,
   "metadata": {
    "vscode": {
     "languageId": "powershell"
    }
   },
   "outputs": [
    {
     "name": "stdout",
     "output_type": "stream",
     "text": [
      "W\n"
     ]
    }
   ],
   "source": [
    "$dictionary = @{w='W'}\n",
    "$array = \"word\".ToCharArray()\n",
    "$dictionary[[string]$array[0]]"
   ]
  },
  {
   "cell_type": "code",
   "execution_count": 10,
   "metadata": {
    "vscode": {
     "languageId": "powershell"
    }
   },
   "outputs": [
    {
     "name": "stdout",
     "output_type": "stream",
     "text": [
      "w = Char\n",
      "Char\n",
      "Char = \"\"\n",
      "String = \"W\"\n"
     ]
    }
   ],
   "source": [
    "$dictionary = @{w='W'}\n",
    "\n",
    "$array = \"word\".ToCharArray()\n",
    "Write-Host $array[0] \"=\" $array[0].GetType().Name\n",
    "\n",
    "$ch = $array[0]\n",
    "Write-Host $ch.GetType().Name\n",
    "\n",
    "\"$($ch.GetType().Name) = `\"$($dictionary[$ch])`\"\"\n",
    "\"$(([string]$ch).GetType().Name) = `\"$($dictionary[[string]$ch])`\"\""
   ]
  },
  {
   "cell_type": "code",
   "execution_count": 15,
   "metadata": {
    "vscode": {
     "languageId": "powershell"
    }
   },
   "outputs": [
    {
     "name": "stdout",
     "output_type": "stream",
     "text": [
      "Char\n",
      "W\n",
      "W\n"
     ]
    }
   ],
   "source": [
    "# uppercase a character\n",
    "$word = \"word\"\n",
    "$array = $word[0..2]\n",
    "$array[0].GetType().Name\n",
    "$ch = $array[0]\n",
    "([string]$ch).ToUpper()\n",
    "[Char]::ToUpper($ch)"
   ]
  },
  {
   "cell_type": "code",
   "execution_count": null,
   "metadata": {
    "vscode": {
     "languageId": "powershell"
    }
   },
   "outputs": [],
   "source": []
  }
 ],
 "metadata": {
  "kernelspec": {
   "display_name": ".NET (PowerShell)",
   "language": "PowerShell",
   "name": ".net-powershell"
  },
  "language_info": {
   "file_extension": ".ps1",
   "mimetype": "text/x-powershell",
   "name": "PowerShell",
   "pygments_lexer": "powershell",
   "version": "7.0"
  },
  "orig_nbformat": 4
 },
 "nbformat": 4,
 "nbformat_minor": 2
}
